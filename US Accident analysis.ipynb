{
 "cells": [
  {
   "cell_type": "markdown",
   "id": "ca31b94a",
   "metadata": {},
   "source": [
    "# US Accident  Explotary Data Analysis\n",
    "TODO:Talk about EDA\n",
    "TODO: Talk about the data set(source,what it conntains, how it will be useful)\n",
    "    -Kaggle\n",
    "    -Information about accidents\n",
    "    -can be useful to prevent accidents\n",
    "   \n",
    "    "
   ]
  },
  {
   "cell_type": "code",
   "execution_count": 21,
   "id": "71417429",
   "metadata": {},
   "outputs": [
    {
     "name": "stdout",
     "output_type": "stream",
     "text": [
      "Requirement already satisfied: opendatasets in c:\\users\\abhin\\anaconda3\\lib\\site-packages (0.1.22)Note: you may need to restart the kernel to use updated packages.\n",
      "\n",
      "Requirement already satisfied: click in c:\\users\\abhin\\anaconda3\\lib\\site-packages (from opendatasets) (7.1.2)\n",
      "Requirement already satisfied: kaggle in c:\\users\\abhin\\anaconda3\\lib\\site-packages (from opendatasets) (1.5.12)\n",
      "Requirement already satisfied: tqdm in c:\\users\\abhin\\anaconda3\\lib\\site-packages (from opendatasets) (4.59.0)\n",
      "Requirement already satisfied: python-slugify in c:\\users\\abhin\\anaconda3\\lib\\site-packages (from kaggle->opendatasets) (6.1.2)\n",
      "Requirement already satisfied: six>=1.10 in c:\\users\\abhin\\anaconda3\\lib\\site-packages (from kaggle->opendatasets) (1.15.0)\n",
      "Requirement already satisfied: python-dateutil in c:\\users\\abhin\\anaconda3\\lib\\site-packages (from kaggle->opendatasets) (2.8.1)\n",
      "Requirement already satisfied: requests in c:\\users\\abhin\\anaconda3\\lib\\site-packages (from kaggle->opendatasets) (2.25.1)\n",
      "Requirement already satisfied: urllib3 in c:\\users\\abhin\\anaconda3\\lib\\site-packages (from kaggle->opendatasets) (1.26.4)\n",
      "Requirement already satisfied: certifi in c:\\users\\abhin\\anaconda3\\lib\\site-packages (from kaggle->opendatasets) (2020.12.5)\n",
      "Requirement already satisfied: text-unidecode>=1.3 in c:\\users\\abhin\\anaconda3\\lib\\site-packages (from python-slugify->kaggle->opendatasets) (1.3)\n",
      "Requirement already satisfied: idna<3,>=2.5 in c:\\users\\abhin\\anaconda3\\lib\\site-packages (from requests->kaggle->opendatasets) (2.10)\n",
      "Requirement already satisfied: chardet<5,>=3.0.2 in c:\\users\\abhin\\anaconda3\\lib\\site-packages (from requests->kaggle->opendatasets) (4.0.0)\n"
     ]
    }
   ],
   "source": [
    "pip install opendatasets --upgrade"
   ]
  },
  {
   "cell_type": "code",
   "execution_count": 22,
   "id": "0bb97ee6",
   "metadata": {},
   "outputs": [
    {
     "name": "stdout",
     "output_type": "stream",
     "text": [
      "Skipping, found downloaded files in \".\\us-accidents\" (use force=True to force download)\n"
     ]
    }
   ],
   "source": [
    "import opendatasets as od\n",
    "download_url='https://www.kaggle.com/datasets/sobhanmoosavi/us-accidents'\n",
    "od.download(download_url)"
   ]
  },
  {
   "cell_type": "code",
   "execution_count": 23,
   "id": "0070df21",
   "metadata": {},
   "outputs": [],
   "source": [
    "data_filename='./us-accidents/US_Accidents_Dec21_updated.csv'"
   ]
  },
  {
   "cell_type": "markdown",
   "id": "2b8971ff",
   "metadata": {},
   "source": [
    "# #Data preparation and Cleaning\n",
    "-load the file using pandas \n",
    "-look about some information about the data and the columns\n",
    "-Fix any missing or incoorect values\n"
   ]
  },
  {
   "cell_type": "code",
   "execution_count": 24,
   "id": "623b07a3",
   "metadata": {},
   "outputs": [],
   "source": [
    "import pandas as pd"
   ]
  },
  {
   "cell_type": "code",
   "execution_count": 25,
   "id": "275b293c",
   "metadata": {},
   "outputs": [],
   "source": [
    "df=pd.read_csv(data_filename)"
   ]
  },
  {
   "cell_type": "code",
   "execution_count": 26,
   "id": "00e43921",
   "metadata": {},
   "outputs": [
    {
     "data": {
      "text/html": [
       "<div>\n",
       "<style scoped>\n",
       "    .dataframe tbody tr th:only-of-type {\n",
       "        vertical-align: middle;\n",
       "    }\n",
       "\n",
       "    .dataframe tbody tr th {\n",
       "        vertical-align: top;\n",
       "    }\n",
       "\n",
       "    .dataframe thead th {\n",
       "        text-align: right;\n",
       "    }\n",
       "</style>\n",
       "<table border=\"1\" class=\"dataframe\">\n",
       "  <thead>\n",
       "    <tr style=\"text-align: right;\">\n",
       "      <th></th>\n",
       "      <th>ID</th>\n",
       "      <th>Severity</th>\n",
       "      <th>Start_Time</th>\n",
       "      <th>End_Time</th>\n",
       "      <th>Start_Lat</th>\n",
       "      <th>Start_Lng</th>\n",
       "      <th>End_Lat</th>\n",
       "      <th>End_Lng</th>\n",
       "      <th>Distance(mi)</th>\n",
       "      <th>Description</th>\n",
       "      <th>...</th>\n",
       "      <th>Roundabout</th>\n",
       "      <th>Station</th>\n",
       "      <th>Stop</th>\n",
       "      <th>Traffic_Calming</th>\n",
       "      <th>Traffic_Signal</th>\n",
       "      <th>Turning_Loop</th>\n",
       "      <th>Sunrise_Sunset</th>\n",
       "      <th>Civil_Twilight</th>\n",
       "      <th>Nautical_Twilight</th>\n",
       "      <th>Astronomical_Twilight</th>\n",
       "    </tr>\n",
       "  </thead>\n",
       "  <tbody>\n",
       "    <tr>\n",
       "      <th>0</th>\n",
       "      <td>A-1</td>\n",
       "      <td>3</td>\n",
       "      <td>2016-02-08 00:37:08</td>\n",
       "      <td>2016-02-08 06:37:08</td>\n",
       "      <td>40.108910</td>\n",
       "      <td>-83.092860</td>\n",
       "      <td>40.112060</td>\n",
       "      <td>-83.031870</td>\n",
       "      <td>3.230</td>\n",
       "      <td>Between Sawmill Rd/Exit 20 and OH-315/Olentang...</td>\n",
       "      <td>...</td>\n",
       "      <td>False</td>\n",
       "      <td>False</td>\n",
       "      <td>False</td>\n",
       "      <td>False</td>\n",
       "      <td>False</td>\n",
       "      <td>False</td>\n",
       "      <td>Night</td>\n",
       "      <td>Night</td>\n",
       "      <td>Night</td>\n",
       "      <td>Night</td>\n",
       "    </tr>\n",
       "    <tr>\n",
       "      <th>1</th>\n",
       "      <td>A-2</td>\n",
       "      <td>2</td>\n",
       "      <td>2016-02-08 05:56:20</td>\n",
       "      <td>2016-02-08 11:56:20</td>\n",
       "      <td>39.865420</td>\n",
       "      <td>-84.062800</td>\n",
       "      <td>39.865010</td>\n",
       "      <td>-84.048730</td>\n",
       "      <td>0.747</td>\n",
       "      <td>At OH-4/OH-235/Exit 41 - Accident.</td>\n",
       "      <td>...</td>\n",
       "      <td>False</td>\n",
       "      <td>False</td>\n",
       "      <td>False</td>\n",
       "      <td>False</td>\n",
       "      <td>False</td>\n",
       "      <td>False</td>\n",
       "      <td>Night</td>\n",
       "      <td>Night</td>\n",
       "      <td>Night</td>\n",
       "      <td>Night</td>\n",
       "    </tr>\n",
       "    <tr>\n",
       "      <th>2</th>\n",
       "      <td>A-3</td>\n",
       "      <td>2</td>\n",
       "      <td>2016-02-08 06:15:39</td>\n",
       "      <td>2016-02-08 12:15:39</td>\n",
       "      <td>39.102660</td>\n",
       "      <td>-84.524680</td>\n",
       "      <td>39.102090</td>\n",
       "      <td>-84.523960</td>\n",
       "      <td>0.055</td>\n",
       "      <td>At I-71/US-50/Exit 1 - Accident.</td>\n",
       "      <td>...</td>\n",
       "      <td>False</td>\n",
       "      <td>False</td>\n",
       "      <td>False</td>\n",
       "      <td>False</td>\n",
       "      <td>False</td>\n",
       "      <td>False</td>\n",
       "      <td>Night</td>\n",
       "      <td>Night</td>\n",
       "      <td>Night</td>\n",
       "      <td>Day</td>\n",
       "    </tr>\n",
       "    <tr>\n",
       "      <th>3</th>\n",
       "      <td>A-4</td>\n",
       "      <td>2</td>\n",
       "      <td>2016-02-08 06:51:45</td>\n",
       "      <td>2016-02-08 12:51:45</td>\n",
       "      <td>41.062130</td>\n",
       "      <td>-81.537840</td>\n",
       "      <td>41.062170</td>\n",
       "      <td>-81.535470</td>\n",
       "      <td>0.123</td>\n",
       "      <td>At Dart Ave/Exit 21 - Accident.</td>\n",
       "      <td>...</td>\n",
       "      <td>False</td>\n",
       "      <td>False</td>\n",
       "      <td>False</td>\n",
       "      <td>False</td>\n",
       "      <td>False</td>\n",
       "      <td>False</td>\n",
       "      <td>Night</td>\n",
       "      <td>Night</td>\n",
       "      <td>Day</td>\n",
       "      <td>Day</td>\n",
       "    </tr>\n",
       "    <tr>\n",
       "      <th>4</th>\n",
       "      <td>A-5</td>\n",
       "      <td>3</td>\n",
       "      <td>2016-02-08 07:53:43</td>\n",
       "      <td>2016-02-08 13:53:43</td>\n",
       "      <td>39.172393</td>\n",
       "      <td>-84.492792</td>\n",
       "      <td>39.170476</td>\n",
       "      <td>-84.501798</td>\n",
       "      <td>0.500</td>\n",
       "      <td>At Mitchell Ave/Exit 6 - Accident.</td>\n",
       "      <td>...</td>\n",
       "      <td>False</td>\n",
       "      <td>False</td>\n",
       "      <td>False</td>\n",
       "      <td>False</td>\n",
       "      <td>False</td>\n",
       "      <td>False</td>\n",
       "      <td>Day</td>\n",
       "      <td>Day</td>\n",
       "      <td>Day</td>\n",
       "      <td>Day</td>\n",
       "    </tr>\n",
       "    <tr>\n",
       "      <th>...</th>\n",
       "      <td>...</td>\n",
       "      <td>...</td>\n",
       "      <td>...</td>\n",
       "      <td>...</td>\n",
       "      <td>...</td>\n",
       "      <td>...</td>\n",
       "      <td>...</td>\n",
       "      <td>...</td>\n",
       "      <td>...</td>\n",
       "      <td>...</td>\n",
       "      <td>...</td>\n",
       "      <td>...</td>\n",
       "      <td>...</td>\n",
       "      <td>...</td>\n",
       "      <td>...</td>\n",
       "      <td>...</td>\n",
       "      <td>...</td>\n",
       "      <td>...</td>\n",
       "      <td>...</td>\n",
       "      <td>...</td>\n",
       "      <td>...</td>\n",
       "    </tr>\n",
       "    <tr>\n",
       "      <th>2845337</th>\n",
       "      <td>A-2845338</td>\n",
       "      <td>2</td>\n",
       "      <td>2019-08-23 18:03:25</td>\n",
       "      <td>2019-08-23 18:32:01</td>\n",
       "      <td>34.002480</td>\n",
       "      <td>-117.379360</td>\n",
       "      <td>33.998880</td>\n",
       "      <td>-117.370940</td>\n",
       "      <td>0.543</td>\n",
       "      <td>At Market St - Accident.</td>\n",
       "      <td>...</td>\n",
       "      <td>False</td>\n",
       "      <td>False</td>\n",
       "      <td>False</td>\n",
       "      <td>False</td>\n",
       "      <td>False</td>\n",
       "      <td>False</td>\n",
       "      <td>Day</td>\n",
       "      <td>Day</td>\n",
       "      <td>Day</td>\n",
       "      <td>Day</td>\n",
       "    </tr>\n",
       "    <tr>\n",
       "      <th>2845338</th>\n",
       "      <td>A-2845339</td>\n",
       "      <td>2</td>\n",
       "      <td>2019-08-23 19:11:30</td>\n",
       "      <td>2019-08-23 19:38:23</td>\n",
       "      <td>32.766960</td>\n",
       "      <td>-117.148060</td>\n",
       "      <td>32.765550</td>\n",
       "      <td>-117.153630</td>\n",
       "      <td>0.338</td>\n",
       "      <td>At Camino Del Rio/Mission Center Rd - Accident.</td>\n",
       "      <td>...</td>\n",
       "      <td>False</td>\n",
       "      <td>False</td>\n",
       "      <td>False</td>\n",
       "      <td>False</td>\n",
       "      <td>False</td>\n",
       "      <td>False</td>\n",
       "      <td>Day</td>\n",
       "      <td>Day</td>\n",
       "      <td>Day</td>\n",
       "      <td>Day</td>\n",
       "    </tr>\n",
       "    <tr>\n",
       "      <th>2845339</th>\n",
       "      <td>A-2845340</td>\n",
       "      <td>2</td>\n",
       "      <td>2019-08-23 19:00:21</td>\n",
       "      <td>2019-08-23 19:28:49</td>\n",
       "      <td>33.775450</td>\n",
       "      <td>-117.847790</td>\n",
       "      <td>33.777400</td>\n",
       "      <td>-117.857270</td>\n",
       "      <td>0.561</td>\n",
       "      <td>At Glassell St/Grand Ave - Accident. in the ri...</td>\n",
       "      <td>...</td>\n",
       "      <td>False</td>\n",
       "      <td>False</td>\n",
       "      <td>False</td>\n",
       "      <td>False</td>\n",
       "      <td>False</td>\n",
       "      <td>False</td>\n",
       "      <td>Day</td>\n",
       "      <td>Day</td>\n",
       "      <td>Day</td>\n",
       "      <td>Day</td>\n",
       "    </tr>\n",
       "    <tr>\n",
       "      <th>2845340</th>\n",
       "      <td>A-2845341</td>\n",
       "      <td>2</td>\n",
       "      <td>2019-08-23 19:00:21</td>\n",
       "      <td>2019-08-23 19:29:42</td>\n",
       "      <td>33.992460</td>\n",
       "      <td>-118.403020</td>\n",
       "      <td>33.983110</td>\n",
       "      <td>-118.395650</td>\n",
       "      <td>0.772</td>\n",
       "      <td>At CA-90/Marina Fwy/Jefferson Blvd - Accident.</td>\n",
       "      <td>...</td>\n",
       "      <td>False</td>\n",
       "      <td>False</td>\n",
       "      <td>False</td>\n",
       "      <td>False</td>\n",
       "      <td>False</td>\n",
       "      <td>False</td>\n",
       "      <td>Day</td>\n",
       "      <td>Day</td>\n",
       "      <td>Day</td>\n",
       "      <td>Day</td>\n",
       "    </tr>\n",
       "    <tr>\n",
       "      <th>2845341</th>\n",
       "      <td>A-2845342</td>\n",
       "      <td>2</td>\n",
       "      <td>2019-08-23 18:52:06</td>\n",
       "      <td>2019-08-23 19:21:31</td>\n",
       "      <td>34.133930</td>\n",
       "      <td>-117.230920</td>\n",
       "      <td>34.137360</td>\n",
       "      <td>-117.239340</td>\n",
       "      <td>0.537</td>\n",
       "      <td>At Highland Ave/Arden Ave - Accident.</td>\n",
       "      <td>...</td>\n",
       "      <td>False</td>\n",
       "      <td>False</td>\n",
       "      <td>False</td>\n",
       "      <td>False</td>\n",
       "      <td>False</td>\n",
       "      <td>False</td>\n",
       "      <td>Day</td>\n",
       "      <td>Day</td>\n",
       "      <td>Day</td>\n",
       "      <td>Day</td>\n",
       "    </tr>\n",
       "  </tbody>\n",
       "</table>\n",
       "<p>2845342 rows × 47 columns</p>\n",
       "</div>"
      ],
      "text/plain": [
       "                ID  Severity           Start_Time             End_Time  \\\n",
       "0              A-1         3  2016-02-08 00:37:08  2016-02-08 06:37:08   \n",
       "1              A-2         2  2016-02-08 05:56:20  2016-02-08 11:56:20   \n",
       "2              A-3         2  2016-02-08 06:15:39  2016-02-08 12:15:39   \n",
       "3              A-4         2  2016-02-08 06:51:45  2016-02-08 12:51:45   \n",
       "4              A-5         3  2016-02-08 07:53:43  2016-02-08 13:53:43   \n",
       "...            ...       ...                  ...                  ...   \n",
       "2845337  A-2845338         2  2019-08-23 18:03:25  2019-08-23 18:32:01   \n",
       "2845338  A-2845339         2  2019-08-23 19:11:30  2019-08-23 19:38:23   \n",
       "2845339  A-2845340         2  2019-08-23 19:00:21  2019-08-23 19:28:49   \n",
       "2845340  A-2845341         2  2019-08-23 19:00:21  2019-08-23 19:29:42   \n",
       "2845341  A-2845342         2  2019-08-23 18:52:06  2019-08-23 19:21:31   \n",
       "\n",
       "         Start_Lat   Start_Lng    End_Lat     End_Lng  Distance(mi)  \\\n",
       "0        40.108910  -83.092860  40.112060  -83.031870         3.230   \n",
       "1        39.865420  -84.062800  39.865010  -84.048730         0.747   \n",
       "2        39.102660  -84.524680  39.102090  -84.523960         0.055   \n",
       "3        41.062130  -81.537840  41.062170  -81.535470         0.123   \n",
       "4        39.172393  -84.492792  39.170476  -84.501798         0.500   \n",
       "...            ...         ...        ...         ...           ...   \n",
       "2845337  34.002480 -117.379360  33.998880 -117.370940         0.543   \n",
       "2845338  32.766960 -117.148060  32.765550 -117.153630         0.338   \n",
       "2845339  33.775450 -117.847790  33.777400 -117.857270         0.561   \n",
       "2845340  33.992460 -118.403020  33.983110 -118.395650         0.772   \n",
       "2845341  34.133930 -117.230920  34.137360 -117.239340         0.537   \n",
       "\n",
       "                                               Description  ...  Roundabout  \\\n",
       "0        Between Sawmill Rd/Exit 20 and OH-315/Olentang...  ...       False   \n",
       "1                       At OH-4/OH-235/Exit 41 - Accident.  ...       False   \n",
       "2                         At I-71/US-50/Exit 1 - Accident.  ...       False   \n",
       "3                          At Dart Ave/Exit 21 - Accident.  ...       False   \n",
       "4                       At Mitchell Ave/Exit 6 - Accident.  ...       False   \n",
       "...                                                    ...  ...         ...   \n",
       "2845337                           At Market St - Accident.  ...       False   \n",
       "2845338    At Camino Del Rio/Mission Center Rd - Accident.  ...       False   \n",
       "2845339  At Glassell St/Grand Ave - Accident. in the ri...  ...       False   \n",
       "2845340     At CA-90/Marina Fwy/Jefferson Blvd - Accident.  ...       False   \n",
       "2845341              At Highland Ave/Arden Ave - Accident.  ...       False   \n",
       "\n",
       "        Station   Stop Traffic_Calming Traffic_Signal Turning_Loop  \\\n",
       "0         False  False           False          False        False   \n",
       "1         False  False           False          False        False   \n",
       "2         False  False           False          False        False   \n",
       "3         False  False           False          False        False   \n",
       "4         False  False           False          False        False   \n",
       "...         ...    ...             ...            ...          ...   \n",
       "2845337   False  False           False          False        False   \n",
       "2845338   False  False           False          False        False   \n",
       "2845339   False  False           False          False        False   \n",
       "2845340   False  False           False          False        False   \n",
       "2845341   False  False           False          False        False   \n",
       "\n",
       "        Sunrise_Sunset Civil_Twilight Nautical_Twilight Astronomical_Twilight  \n",
       "0                Night          Night             Night                 Night  \n",
       "1                Night          Night             Night                 Night  \n",
       "2                Night          Night             Night                   Day  \n",
       "3                Night          Night               Day                   Day  \n",
       "4                  Day            Day               Day                   Day  \n",
       "...                ...            ...               ...                   ...  \n",
       "2845337            Day            Day               Day                   Day  \n",
       "2845338            Day            Day               Day                   Day  \n",
       "2845339            Day            Day               Day                   Day  \n",
       "2845340            Day            Day               Day                   Day  \n",
       "2845341            Day            Day               Day                   Day  \n",
       "\n",
       "[2845342 rows x 47 columns]"
      ]
     },
     "execution_count": 26,
     "metadata": {},
     "output_type": "execute_result"
    }
   ],
   "source": [
    "df"
   ]
  },
  {
   "cell_type": "code",
   "execution_count": 27,
   "id": "a73526a4",
   "metadata": {},
   "outputs": [
    {
     "data": {
      "text/plain": [
       "Index(['ID', 'Severity', 'Start_Time', 'End_Time', 'Start_Lat', 'Start_Lng',\n",
       "       'End_Lat', 'End_Lng', 'Distance(mi)', 'Description', 'Number', 'Street',\n",
       "       'Side', 'City', 'County', 'State', 'Zipcode', 'Country', 'Timezone',\n",
       "       'Airport_Code', 'Weather_Timestamp', 'Temperature(F)', 'Wind_Chill(F)',\n",
       "       'Humidity(%)', 'Pressure(in)', 'Visibility(mi)', 'Wind_Direction',\n",
       "       'Wind_Speed(mph)', 'Precipitation(in)', 'Weather_Condition', 'Amenity',\n",
       "       'Bump', 'Crossing', 'Give_Way', 'Junction', 'No_Exit', 'Railway',\n",
       "       'Roundabout', 'Station', 'Stop', 'Traffic_Calming', 'Traffic_Signal',\n",
       "       'Turning_Loop', 'Sunrise_Sunset', 'Civil_Twilight', 'Nautical_Twilight',\n",
       "       'Astronomical_Twilight'],\n",
       "      dtype='object')"
      ]
     },
     "execution_count": 27,
     "metadata": {},
     "output_type": "execute_result"
    }
   ],
   "source": [
    "df.columns"
   ]
  },
  {
   "cell_type": "code",
   "execution_count": 28,
   "id": "8f7415e8",
   "metadata": {},
   "outputs": [
    {
     "name": "stdout",
     "output_type": "stream",
     "text": [
      "<class 'pandas.core.frame.DataFrame'>\n",
      "RangeIndex: 2845342 entries, 0 to 2845341\n",
      "Data columns (total 47 columns):\n",
      " #   Column                 Dtype  \n",
      "---  ------                 -----  \n",
      " 0   ID                     object \n",
      " 1   Severity               int64  \n",
      " 2   Start_Time             object \n",
      " 3   End_Time               object \n",
      " 4   Start_Lat              float64\n",
      " 5   Start_Lng              float64\n",
      " 6   End_Lat                float64\n",
      " 7   End_Lng                float64\n",
      " 8   Distance(mi)           float64\n",
      " 9   Description            object \n",
      " 10  Number                 float64\n",
      " 11  Street                 object \n",
      " 12  Side                   object \n",
      " 13  City                   object \n",
      " 14  County                 object \n",
      " 15  State                  object \n",
      " 16  Zipcode                object \n",
      " 17  Country                object \n",
      " 18  Timezone               object \n",
      " 19  Airport_Code           object \n",
      " 20  Weather_Timestamp      object \n",
      " 21  Temperature(F)         float64\n",
      " 22  Wind_Chill(F)          float64\n",
      " 23  Humidity(%)            float64\n",
      " 24  Pressure(in)           float64\n",
      " 25  Visibility(mi)         float64\n",
      " 26  Wind_Direction         object \n",
      " 27  Wind_Speed(mph)        float64\n",
      " 28  Precipitation(in)      float64\n",
      " 29  Weather_Condition      object \n",
      " 30  Amenity                bool   \n",
      " 31  Bump                   bool   \n",
      " 32  Crossing               bool   \n",
      " 33  Give_Way               bool   \n",
      " 34  Junction               bool   \n",
      " 35  No_Exit                bool   \n",
      " 36  Railway                bool   \n",
      " 37  Roundabout             bool   \n",
      " 38  Station                bool   \n",
      " 39  Stop                   bool   \n",
      " 40  Traffic_Calming        bool   \n",
      " 41  Traffic_Signal         bool   \n",
      " 42  Turning_Loop           bool   \n",
      " 43  Sunrise_Sunset         object \n",
      " 44  Civil_Twilight         object \n",
      " 45  Nautical_Twilight      object \n",
      " 46  Astronomical_Twilight  object \n",
      "dtypes: bool(13), float64(13), int64(1), object(20)\n",
      "memory usage: 773.4+ MB\n"
     ]
    }
   ],
   "source": [
    "df.info()"
   ]
  },
  {
   "cell_type": "code",
   "execution_count": 29,
   "id": "83949f97",
   "metadata": {},
   "outputs": [
    {
     "data": {
      "text/html": [
       "<div>\n",
       "<style scoped>\n",
       "    .dataframe tbody tr th:only-of-type {\n",
       "        vertical-align: middle;\n",
       "    }\n",
       "\n",
       "    .dataframe tbody tr th {\n",
       "        vertical-align: top;\n",
       "    }\n",
       "\n",
       "    .dataframe thead th {\n",
       "        text-align: right;\n",
       "    }\n",
       "</style>\n",
       "<table border=\"1\" class=\"dataframe\">\n",
       "  <thead>\n",
       "    <tr style=\"text-align: right;\">\n",
       "      <th></th>\n",
       "      <th>Severity</th>\n",
       "      <th>Start_Lat</th>\n",
       "      <th>Start_Lng</th>\n",
       "      <th>End_Lat</th>\n",
       "      <th>End_Lng</th>\n",
       "      <th>Distance(mi)</th>\n",
       "      <th>Number</th>\n",
       "      <th>Temperature(F)</th>\n",
       "      <th>Wind_Chill(F)</th>\n",
       "      <th>Humidity(%)</th>\n",
       "      <th>Pressure(in)</th>\n",
       "      <th>Visibility(mi)</th>\n",
       "      <th>Wind_Speed(mph)</th>\n",
       "      <th>Precipitation(in)</th>\n",
       "    </tr>\n",
       "  </thead>\n",
       "  <tbody>\n",
       "    <tr>\n",
       "      <th>count</th>\n",
       "      <td>2.845342e+06</td>\n",
       "      <td>2.845342e+06</td>\n",
       "      <td>2.845342e+06</td>\n",
       "      <td>2.845342e+06</td>\n",
       "      <td>2.845342e+06</td>\n",
       "      <td>2.845342e+06</td>\n",
       "      <td>1.101431e+06</td>\n",
       "      <td>2.776068e+06</td>\n",
       "      <td>2.375699e+06</td>\n",
       "      <td>2.772250e+06</td>\n",
       "      <td>2.786142e+06</td>\n",
       "      <td>2.774796e+06</td>\n",
       "      <td>2.687398e+06</td>\n",
       "      <td>2.295884e+06</td>\n",
       "    </tr>\n",
       "    <tr>\n",
       "      <th>mean</th>\n",
       "      <td>2.137572e+00</td>\n",
       "      <td>3.624520e+01</td>\n",
       "      <td>-9.711463e+01</td>\n",
       "      <td>3.624532e+01</td>\n",
       "      <td>-9.711439e+01</td>\n",
       "      <td>7.026779e-01</td>\n",
       "      <td>8.089408e+03</td>\n",
       "      <td>6.179356e+01</td>\n",
       "      <td>5.965823e+01</td>\n",
       "      <td>6.436545e+01</td>\n",
       "      <td>2.947234e+01</td>\n",
       "      <td>9.099391e+00</td>\n",
       "      <td>7.395044e+00</td>\n",
       "      <td>7.016940e-03</td>\n",
       "    </tr>\n",
       "    <tr>\n",
       "      <th>std</th>\n",
       "      <td>4.787216e-01</td>\n",
       "      <td>5.363797e+00</td>\n",
       "      <td>1.831782e+01</td>\n",
       "      <td>5.363873e+00</td>\n",
       "      <td>1.831763e+01</td>\n",
       "      <td>1.560361e+00</td>\n",
       "      <td>1.836009e+04</td>\n",
       "      <td>1.862263e+01</td>\n",
       "      <td>2.116097e+01</td>\n",
       "      <td>2.287457e+01</td>\n",
       "      <td>1.045286e+00</td>\n",
       "      <td>2.717546e+00</td>\n",
       "      <td>5.527454e+00</td>\n",
       "      <td>9.348831e-02</td>\n",
       "    </tr>\n",
       "    <tr>\n",
       "      <th>min</th>\n",
       "      <td>1.000000e+00</td>\n",
       "      <td>2.456603e+01</td>\n",
       "      <td>-1.245481e+02</td>\n",
       "      <td>2.456601e+01</td>\n",
       "      <td>-1.245457e+02</td>\n",
       "      <td>0.000000e+00</td>\n",
       "      <td>0.000000e+00</td>\n",
       "      <td>-8.900000e+01</td>\n",
       "      <td>-8.900000e+01</td>\n",
       "      <td>1.000000e+00</td>\n",
       "      <td>0.000000e+00</td>\n",
       "      <td>0.000000e+00</td>\n",
       "      <td>0.000000e+00</td>\n",
       "      <td>0.000000e+00</td>\n",
       "    </tr>\n",
       "    <tr>\n",
       "      <th>25%</th>\n",
       "      <td>2.000000e+00</td>\n",
       "      <td>3.344517e+01</td>\n",
       "      <td>-1.180331e+02</td>\n",
       "      <td>3.344628e+01</td>\n",
       "      <td>-1.180333e+02</td>\n",
       "      <td>5.200000e-02</td>\n",
       "      <td>1.270000e+03</td>\n",
       "      <td>5.000000e+01</td>\n",
       "      <td>4.600000e+01</td>\n",
       "      <td>4.800000e+01</td>\n",
       "      <td>2.931000e+01</td>\n",
       "      <td>1.000000e+01</td>\n",
       "      <td>3.500000e+00</td>\n",
       "      <td>0.000000e+00</td>\n",
       "    </tr>\n",
       "    <tr>\n",
       "      <th>50%</th>\n",
       "      <td>2.000000e+00</td>\n",
       "      <td>3.609861e+01</td>\n",
       "      <td>-9.241808e+01</td>\n",
       "      <td>3.609799e+01</td>\n",
       "      <td>-9.241772e+01</td>\n",
       "      <td>2.440000e-01</td>\n",
       "      <td>4.007000e+03</td>\n",
       "      <td>6.400000e+01</td>\n",
       "      <td>6.300000e+01</td>\n",
       "      <td>6.700000e+01</td>\n",
       "      <td>2.982000e+01</td>\n",
       "      <td>1.000000e+01</td>\n",
       "      <td>7.000000e+00</td>\n",
       "      <td>0.000000e+00</td>\n",
       "    </tr>\n",
       "    <tr>\n",
       "      <th>75%</th>\n",
       "      <td>2.000000e+00</td>\n",
       "      <td>4.016024e+01</td>\n",
       "      <td>-8.037243e+01</td>\n",
       "      <td>4.016105e+01</td>\n",
       "      <td>-8.037338e+01</td>\n",
       "      <td>7.640000e-01</td>\n",
       "      <td>9.567000e+03</td>\n",
       "      <td>7.600000e+01</td>\n",
       "      <td>7.600000e+01</td>\n",
       "      <td>8.300000e+01</td>\n",
       "      <td>3.001000e+01</td>\n",
       "      <td>1.000000e+01</td>\n",
       "      <td>1.000000e+01</td>\n",
       "      <td>0.000000e+00</td>\n",
       "    </tr>\n",
       "    <tr>\n",
       "      <th>max</th>\n",
       "      <td>4.000000e+00</td>\n",
       "      <td>4.900058e+01</td>\n",
       "      <td>-6.711317e+01</td>\n",
       "      <td>4.907500e+01</td>\n",
       "      <td>-6.710924e+01</td>\n",
       "      <td>1.551860e+02</td>\n",
       "      <td>9.999997e+06</td>\n",
       "      <td>1.960000e+02</td>\n",
       "      <td>1.960000e+02</td>\n",
       "      <td>1.000000e+02</td>\n",
       "      <td>5.890000e+01</td>\n",
       "      <td>1.400000e+02</td>\n",
       "      <td>1.087000e+03</td>\n",
       "      <td>2.400000e+01</td>\n",
       "    </tr>\n",
       "  </tbody>\n",
       "</table>\n",
       "</div>"
      ],
      "text/plain": [
       "           Severity     Start_Lat     Start_Lng       End_Lat       End_Lng  \\\n",
       "count  2.845342e+06  2.845342e+06  2.845342e+06  2.845342e+06  2.845342e+06   \n",
       "mean   2.137572e+00  3.624520e+01 -9.711463e+01  3.624532e+01 -9.711439e+01   \n",
       "std    4.787216e-01  5.363797e+00  1.831782e+01  5.363873e+00  1.831763e+01   \n",
       "min    1.000000e+00  2.456603e+01 -1.245481e+02  2.456601e+01 -1.245457e+02   \n",
       "25%    2.000000e+00  3.344517e+01 -1.180331e+02  3.344628e+01 -1.180333e+02   \n",
       "50%    2.000000e+00  3.609861e+01 -9.241808e+01  3.609799e+01 -9.241772e+01   \n",
       "75%    2.000000e+00  4.016024e+01 -8.037243e+01  4.016105e+01 -8.037338e+01   \n",
       "max    4.000000e+00  4.900058e+01 -6.711317e+01  4.907500e+01 -6.710924e+01   \n",
       "\n",
       "       Distance(mi)        Number  Temperature(F)  Wind_Chill(F)  \\\n",
       "count  2.845342e+06  1.101431e+06    2.776068e+06   2.375699e+06   \n",
       "mean   7.026779e-01  8.089408e+03    6.179356e+01   5.965823e+01   \n",
       "std    1.560361e+00  1.836009e+04    1.862263e+01   2.116097e+01   \n",
       "min    0.000000e+00  0.000000e+00   -8.900000e+01  -8.900000e+01   \n",
       "25%    5.200000e-02  1.270000e+03    5.000000e+01   4.600000e+01   \n",
       "50%    2.440000e-01  4.007000e+03    6.400000e+01   6.300000e+01   \n",
       "75%    7.640000e-01  9.567000e+03    7.600000e+01   7.600000e+01   \n",
       "max    1.551860e+02  9.999997e+06    1.960000e+02   1.960000e+02   \n",
       "\n",
       "        Humidity(%)  Pressure(in)  Visibility(mi)  Wind_Speed(mph)  \\\n",
       "count  2.772250e+06  2.786142e+06    2.774796e+06     2.687398e+06   \n",
       "mean   6.436545e+01  2.947234e+01    9.099391e+00     7.395044e+00   \n",
       "std    2.287457e+01  1.045286e+00    2.717546e+00     5.527454e+00   \n",
       "min    1.000000e+00  0.000000e+00    0.000000e+00     0.000000e+00   \n",
       "25%    4.800000e+01  2.931000e+01    1.000000e+01     3.500000e+00   \n",
       "50%    6.700000e+01  2.982000e+01    1.000000e+01     7.000000e+00   \n",
       "75%    8.300000e+01  3.001000e+01    1.000000e+01     1.000000e+01   \n",
       "max    1.000000e+02  5.890000e+01    1.400000e+02     1.087000e+03   \n",
       "\n",
       "       Precipitation(in)  \n",
       "count       2.295884e+06  \n",
       "mean        7.016940e-03  \n",
       "std         9.348831e-02  \n",
       "min         0.000000e+00  \n",
       "25%         0.000000e+00  \n",
       "50%         0.000000e+00  \n",
       "75%         0.000000e+00  \n",
       "max         2.400000e+01  "
      ]
     },
     "execution_count": 29,
     "metadata": {},
     "output_type": "execute_result"
    }
   ],
   "source": [
    "df.describe()"
   ]
  },
  {
   "cell_type": "markdown",
   "id": "b659f7be",
   "metadata": {},
   "source": [
    "Ask& answer a question\n",
    "-Are there more accidents in warmer or colder area?\n",
    "-Which 5 state has highest number of accidents?how about per capita?\n"
   ]
  },
  {
   "cell_type": "code",
   "execution_count": 30,
   "id": "02852806",
   "metadata": {},
   "outputs": [
    {
     "data": {
      "text/plain": [
       "14"
      ]
     },
     "execution_count": 30,
     "metadata": {},
     "output_type": "execute_result"
    }
   ],
   "source": [
    "numerics=['int16','int32','int64','float16','float32','float64']\n",
    "numeric_df=df.select_dtypes(include=numerics)\n",
    "len(numeric_df.columns)"
   ]
  },
  {
   "cell_type": "code",
   "execution_count": 31,
   "id": "a13f4328",
   "metadata": {},
   "outputs": [
    {
     "data": {
      "text/plain": [
       "Number                   6.129003e-01\n",
       "Precipitation(in)        1.931079e-01\n",
       "Wind_Chill(F)            1.650568e-01\n",
       "Wind_Speed(mph)          5.550967e-02\n",
       "Wind_Direction           2.592834e-02\n",
       "Humidity(%)              2.568830e-02\n",
       "Weather_Condition        2.482514e-02\n",
       "Visibility(mi)           2.479350e-02\n",
       "Temperature(F)           2.434646e-02\n",
       "Pressure(in)             2.080593e-02\n",
       "Weather_Timestamp        1.783125e-02\n",
       "Airport_Code             3.356011e-03\n",
       "Timezone                 1.285961e-03\n",
       "Nautical_Twilight        1.007612e-03\n",
       "Civil_Twilight           1.007612e-03\n",
       "Sunrise_Sunset           1.007612e-03\n",
       "Astronomical_Twilight    1.007612e-03\n",
       "Zipcode                  4.635647e-04\n",
       "City                     4.814887e-05\n",
       "Street                   7.029032e-07\n",
       "Country                  0.000000e+00\n",
       "Junction                 0.000000e+00\n",
       "Start_Time               0.000000e+00\n",
       "End_Time                 0.000000e+00\n",
       "Start_Lat                0.000000e+00\n",
       "Turning_Loop             0.000000e+00\n",
       "Traffic_Signal           0.000000e+00\n",
       "Traffic_Calming          0.000000e+00\n",
       "Stop                     0.000000e+00\n",
       "Station                  0.000000e+00\n",
       "Roundabout               0.000000e+00\n",
       "Railway                  0.000000e+00\n",
       "No_Exit                  0.000000e+00\n",
       "Crossing                 0.000000e+00\n",
       "Give_Way                 0.000000e+00\n",
       "Bump                     0.000000e+00\n",
       "Amenity                  0.000000e+00\n",
       "Start_Lng                0.000000e+00\n",
       "End_Lat                  0.000000e+00\n",
       "End_Lng                  0.000000e+00\n",
       "Distance(mi)             0.000000e+00\n",
       "Description              0.000000e+00\n",
       "Severity                 0.000000e+00\n",
       "Side                     0.000000e+00\n",
       "County                   0.000000e+00\n",
       "State                    0.000000e+00\n",
       "ID                       0.000000e+00\n",
       "dtype: float64"
      ]
     },
     "execution_count": 31,
     "metadata": {},
     "output_type": "execute_result"
    }
   ],
   "source": [
    "missing_percentage=df.isna().sum().sort_values(ascending=False)/len(df)\n",
    "missing_percentage"
   ]
  },
  {
   "cell_type": "code",
   "execution_count": 32,
   "id": "5642d270",
   "metadata": {},
   "outputs": [
    {
     "data": {
      "text/plain": [
       "Number                   6.129003e-01\n",
       "Precipitation(in)        1.931079e-01\n",
       "Wind_Chill(F)            1.650568e-01\n",
       "Wind_Speed(mph)          5.550967e-02\n",
       "Wind_Direction           2.592834e-02\n",
       "Humidity(%)              2.568830e-02\n",
       "Weather_Condition        2.482514e-02\n",
       "Visibility(mi)           2.479350e-02\n",
       "Temperature(F)           2.434646e-02\n",
       "Pressure(in)             2.080593e-02\n",
       "Weather_Timestamp        1.783125e-02\n",
       "Airport_Code             3.356011e-03\n",
       "Timezone                 1.285961e-03\n",
       "Nautical_Twilight        1.007612e-03\n",
       "Civil_Twilight           1.007612e-03\n",
       "Sunrise_Sunset           1.007612e-03\n",
       "Astronomical_Twilight    1.007612e-03\n",
       "Zipcode                  4.635647e-04\n",
       "City                     4.814887e-05\n",
       "Street                   7.029032e-07\n",
       "dtype: float64"
      ]
     },
     "execution_count": 32,
     "metadata": {},
     "output_type": "execute_result"
    }
   ],
   "source": [
    "missing_percentage[missing_percentage!=0]"
   ]
  },
  {
   "cell_type": "code",
   "execution_count": 33,
   "id": "3b0ecb4a",
   "metadata": {},
   "outputs": [
    {
     "data": {
      "text/plain": [
       "pandas.core.series.Series"
      ]
     },
     "execution_count": 33,
     "metadata": {},
     "output_type": "execute_result"
    }
   ],
   "source": [
    "type(missing_percentage)"
   ]
  },
  {
   "cell_type": "code",
   "execution_count": 35,
   "id": "c78506e5",
   "metadata": {},
   "outputs": [
    {
     "data": {
      "text/plain": [
       "<AxesSubplot:>"
      ]
     },
     "execution_count": 35,
     "metadata": {},
     "output_type": "execute_result"
    },
    {
     "data": {
      "image/png": "[encoded data removed]",
      "text/plain": [
       "<Figure size 432x288 with 1 Axes>"
      ]
     },
     "metadata": {
      "needs_background": "light"
     },
     "output_type": "display_data"
    }
   ],
   "source": [
    "missing_percentage[missing_percentage!=0].plot(kind='barh')"
   ]
  },
  {
   "cell_type": "markdown",
   "id": "b6daaea0",
   "metadata": {},
   "source": [
    "# #Explotary analysis and visualization\n",
    "columns we will analyze:\n",
    "1. City\n",
    "2. Start time\n",
    "3. Start Lat ,Start lng\n",
    "4. Temperature\n",
    "5. Weather conditions"
   ]
  },
  {
   "cell_type": "code",
   "execution_count": 36,
   "id": "6ee2a075",
   "metadata": {},
   "outputs": [
    {
     "data": {
      "text/plain": [
       "Index(['ID', 'Severity', 'Start_Time', 'End_Time', 'Start_Lat', 'Start_Lng',\n",
       "       'End_Lat', 'End_Lng', 'Distance(mi)', 'Description', 'Number', 'Street',\n",
       "       'Side', 'City', 'County', 'State', 'Zipcode', 'Country', 'Timezone',\n",
       "       'Airport_Code', 'Weather_Timestamp', 'Temperature(F)', 'Wind_Chill(F)',\n",
       "       'Humidity(%)', 'Pressure(in)', 'Visibility(mi)', 'Wind_Direction',\n",
       "       'Wind_Speed(mph)', 'Precipitation(in)', 'Weather_Condition', 'Amenity',\n",
       "       'Bump', 'Crossing', 'Give_Way', 'Junction', 'No_Exit', 'Railway',\n",
       "       'Roundabout', 'Station', 'Stop', 'Traffic_Calming', 'Traffic_Signal',\n",
       "       'Turning_Loop', 'Sunrise_Sunset', 'Civil_Twilight', 'Nautical_Twilight',\n",
       "       'Astronomical_Twilight'],\n",
       "      dtype='object')"
      ]
     },
     "execution_count": 36,
     "metadata": {},
     "output_type": "execute_result"
    }
   ],
   "source": [
    "df.columns"
   ]
  },
  {
   "cell_type": "code",
   "execution_count": 38,
   "id": "656f930e",
   "metadata": {},
   "outputs": [
    {
     "data": {
      "text/plain": [
       "0               Dublin\n",
       "1               Dayton\n",
       "2           Cincinnati\n",
       "3                Akron\n",
       "4           Cincinnati\n",
       "              ...     \n",
       "2845337      Riverside\n",
       "2845338      San Diego\n",
       "2845339         Orange\n",
       "2845340    Culver City\n",
       "2845341       Highland\n",
       "Name: City, Length: 2845342, dtype: object"
      ]
     },
     "execution_count": 38,
     "metadata": {},
     "output_type": "execute_result"
    }
   ],
   "source": [
    "df.City"
   ]
  },
  {
   "cell_type": "code",
   "execution_count": 39,
   "id": "81af47c4",
   "metadata": {},
   "outputs": [
    {
     "data": {
      "text/plain": [
       "11682"
      ]
     },
     "execution_count": 39,
     "metadata": {},
     "output_type": "execute_result"
    }
   ],
   "source": [
    "cities = df.City.unique()\n",
    "len(cities)"
   ]
  },
  {
   "cell_type": "code",
   "execution_count": 40,
   "id": "a1b57506",
   "metadata": {},
   "outputs": [
    {
     "data": {
      "text/plain": [
       "Miami                106966\n",
       "Los Angeles           68956\n",
       "Orlando               54691\n",
       "Dallas                41979\n",
       "Houston               39448\n",
       "                      ...  \n",
       "Robeline                  1\n",
       "West Chesterfield         1\n",
       "Greens                    1\n",
       "Bauxite                   1\n",
       "Travis AFB                1\n",
       "Name: City, Length: 11681, dtype: int64"
      ]
     },
     "execution_count": 40,
     "metadata": {},
     "output_type": "execute_result"
    }
   ],
   "source": [
    "cities_by_accident = df.City.value_counts()\n",
    "cities_by_accident"
   ]
  },
  {
   "cell_type": "code",
   "execution_count": 41,
   "id": "2a1edf40",
   "metadata": {},
   "outputs": [
    {
     "data": {
      "text/plain": [
       "Miami           106966\n",
       "Los Angeles      68956\n",
       "Orlando          54691\n",
       "Dallas           41979\n",
       "Houston          39448\n",
       "Charlotte        33152\n",
       "Sacramento       32559\n",
       "San Diego        26627\n",
       "Raleigh          22840\n",
       "Minneapolis      22768\n",
       "Portland         20944\n",
       "Nashville        20267\n",
       "Austin           18301\n",
       "Baton Rouge      18182\n",
       "Phoenix          17143\n",
       "Saint Paul       16869\n",
       "New Orleans      16251\n",
       "Atlanta          15622\n",
       "Jacksonville     14967\n",
       "Richmond         14349\n",
       "Name: City, dtype: int64"
      ]
     },
     "execution_count": 41,
     "metadata": {},
     "output_type": "execute_result"
    }
   ],
   "source": [
    "cities_by_accident[:20]"
   ]
  },
  {
   "cell_type": "code",
   "execution_count": 42,
   "id": "75d07635",
   "metadata": {},
   "outputs": [
    {
     "data": {
      "text/plain": [
       "pandas.core.series.Series"
      ]
     },
     "execution_count": 42,
     "metadata": {},
     "output_type": "execute_result"
    }
   ],
   "source": [
    "type(cities_by_accident)"
   ]
  },
  {
   "cell_type": "code",
   "execution_count": 43,
   "id": "9226592d",
   "metadata": {},
   "outputs": [
    {
     "data": {
      "text/plain": [
       "<AxesSubplot:>"
      ]
     },
     "execution_count": 43,
     "metadata": {},
     "output_type": "execute_result"
    },
    {
     "data": {
      "image/png": "[encoded data removed]",
      "text/plain": [
       "<Figure size 432x288 with 1 Axes>"
      ]
     },
     "metadata": {
      "needs_background": "light"
     },
     "output_type": "display_data"
    }
   ],
   "source": [
    "cities_by_accident[:20].plot(kind='barh')"
   ]
  },
  {
   "cell_type": "code",
   "execution_count": 44,
   "id": "3765a8ed",
   "metadata": {},
   "outputs": [],
   "source": [
    "import seaborn as sns\n",
    "sns.set_style(\"darkgrid\")"
   ]
  },
  {
   "cell_type": "code",
   "execution_count": 45,
   "id": "69887fcd",
   "metadata": {},
   "outputs": [
    {
     "data": {
      "text/plain": [
       "<AxesSubplot:xlabel='City', ylabel='Count'>"
      ]
     },
     "execution_count": 45,
     "metadata": {},
     "output_type": "execute_result"
    },
    {
     "data": {
      "image/png": "[encoded data removed]",
      "text/plain": [
       "<Figure size 432x288 with 1 Axes>"
      ]
     },
     "metadata": {},
     "output_type": "display_data"
    }
   ],
   "source": [
    "sns.histplot(cities_by_accident, log_scale=True)"
   ]
  },
  {
   "cell_type": "code",
   "execution_count": 55,
   "id": "848c1cf1",
   "metadata": {},
   "outputs": [],
   "source": [
    "high_accident_cities=cities_by_accident[cities_by_accident>=1000]\n",
    "low_accident_cities=cities_by_accident[cities_by_accident<1000]"
   ]
  },
  {
   "cell_type": "code",
   "execution_count": 56,
   "id": "598c67e4",
   "metadata": {},
   "outputs": [
    {
     "data": {
      "text/plain": [
       "496"
      ]
     },
     "execution_count": 56,
     "metadata": {},
     "output_type": "execute_result"
    }
   ],
   "source": [
    "len(high_accident_cities)"
   ]
  },
  {
   "cell_type": "code",
   "execution_count": 61,
   "id": "39350880",
   "metadata": {},
   "outputs": [
    {
     "data": {
      "text/plain": [
       "0.04245848313644924"
      ]
     },
     "execution_count": 61,
     "metadata": {},
     "output_type": "execute_result"
    }
   ],
   "source": [
    "len(high_accident_cities)/len(cities)"
   ]
  },
  {
   "cell_type": "code",
   "execution_count": 58,
   "id": "aedbf3c5",
   "metadata": {},
   "outputs": [
    {
     "data": {
      "text/plain": [
       "False"
      ]
     },
     "execution_count": 58,
     "metadata": {},
     "output_type": "execute_result"
    }
   ],
   "source": [
    "'NY' in df.State"
   ]
  },
  {
   "cell_type": "code",
   "execution_count": 60,
   "id": "712d21a1",
   "metadata": {},
   "outputs": [
    {
     "name": "stderr",
     "output_type": "stream",
     "text": [
      "C:\\Users\\abhin\\anaconda3\\lib\\site-packages\\seaborn\\distributions.py:2557: FutureWarning: `distplot` is a deprecated function and will be removed in a future version. Please adapt your code to use either `displot` (a figure-level function with similar flexibility) or `histplot` (an axes-level function for histograms).\n",
      "  warnings.warn(msg, FutureWarning)\n"
     ]
    },
    {
     "data": {
      "text/plain": [
       "<AxesSubplot:xlabel='City', ylabel='Density'>"
      ]
     },
     "execution_count": 60,
     "metadata": {},
     "output_type": "execute_result"
    },
    {
     "data": {
      "image/png": "[encoded data removed]",
      "text/plain": [
       "<Figure size 432x288 with 1 Axes>"
      ]
     },
     "metadata": {},
     "output_type": "display_data"
    }
   ],
   "source": [
    "sns.distplot(high_accident_cities)"
   ]
  },
  {
   "cell_type": "code",
   "execution_count": 62,
   "id": "e1996785",
   "metadata": {},
   "outputs": [
    {
     "name": "stderr",
     "output_type": "stream",
     "text": [
      "C:\\Users\\abhin\\anaconda3\\lib\\site-packages\\seaborn\\distributions.py:2557: FutureWarning: `distplot` is a deprecated function and will be removed in a future version. Please adapt your code to use either `displot` (a figure-level function with similar flexibility) or `histplot` (an axes-level function for histograms).\n",
      "  warnings.warn(msg, FutureWarning)\n"
     ]
    },
    {
     "data": {
      "text/plain": [
       "<AxesSubplot:xlabel='City', ylabel='Density'>"
      ]
     },
     "execution_count": 62,
     "metadata": {},
     "output_type": "execute_result"
    },
    {
     "data": {
      "image/png": "[encoded data removed]",
      "text/plain": [
       "<Figure size 432x288 with 1 Axes>"
      ]
     },
     "metadata": {},
     "output_type": "display_data"
    }
   ],
   "source": [
    "sns.distplot(low_accident_cities)"
   ]
  },
  {
   "cell_type": "code",
   "execution_count": 46,
   "id": "f19c9edd",
   "metadata": {},
   "outputs": [
    {
     "data": {
      "text/plain": [
       "Star Lake            1\n",
       "East Hancock         1\n",
       "Tate                 1\n",
       "Tracys Landing       1\n",
       "Terrace Park         1\n",
       "                    ..\n",
       "Robeline             1\n",
       "West Chesterfield    1\n",
       "Greens               1\n",
       "Bauxite              1\n",
       "Travis AFB           1\n",
       "Name: City, Length: 1110, dtype: int64"
      ]
     },
     "execution_count": 46,
     "metadata": {},
     "output_type": "execute_result"
    }
   ],
   "source": [
    "cities_by_accident[cities_by_accident == 1]"
   ]
  },
  {
   "cell_type": "code",
   "execution_count": 63,
   "id": "a30bfebe",
   "metadata": {},
   "outputs": [
    {
     "data": {
      "text/plain": [
       "1110"
      ]
     },
     "execution_count": 63,
     "metadata": {},
     "output_type": "execute_result"
    }
   ],
   "source": [
    "len(cities_by_accident[cities_by_accident == 1])"
   ]
  },
  {
   "cell_type": "markdown",
   "id": "7269b28a",
   "metadata": {},
   "source": [
    "START TIME"
   ]
  },
  {
   "cell_type": "code",
   "execution_count": 47,
   "id": "75406a1d",
   "metadata": {},
   "outputs": [
    {
     "data": {
      "text/plain": [
       "0          2016-02-08 00:37:08\n",
       "1          2016-02-08 05:56:20\n",
       "2          2016-02-08 06:15:39\n",
       "3          2016-02-08 06:51:45\n",
       "4          2016-02-08 07:53:43\n",
       "                  ...         \n",
       "2845337    2019-08-23 18:03:25\n",
       "2845338    2019-08-23 19:11:30\n",
       "2845339    2019-08-23 19:00:21\n",
       "2845340    2019-08-23 19:00:21\n",
       "2845341    2019-08-23 18:52:06\n",
       "Name: Start_Time, Length: 2845342, dtype: object"
      ]
     },
     "execution_count": 47,
     "metadata": {},
     "output_type": "execute_result"
    }
   ],
   "source": [
    "df.Start_Time"
   ]
  },
  {
   "cell_type": "code",
   "execution_count": 48,
   "id": "e43dbf32",
   "metadata": {},
   "outputs": [],
   "source": [
    "df.Start_Time = pd.to_datetime(df.Start_Time)"
   ]
  },
  {
   "cell_type": "code",
   "execution_count": 67,
   "id": "6078137c",
   "metadata": {},
   "outputs": [
    {
     "data": {
      "text/plain": [
       "0           0\n",
       "1           5\n",
       "2           6\n",
       "3           6\n",
       "4           7\n",
       "           ..\n",
       "2845337    18\n",
       "2845338    19\n",
       "2845339    19\n",
       "2845340    19\n",
       "2845341    18\n",
       "Name: Start_Time, Length: 2845342, dtype: int64"
      ]
     },
     "execution_count": 67,
     "metadata": {},
     "output_type": "execute_result"
    }
   ],
   "source": [
    "df.Start_Time.dt.hour"
   ]
  },
  {
   "cell_type": "code",
   "execution_count": 49,
   "id": "54b0cc49",
   "metadata": {},
   "outputs": [
    {
     "name": "stderr",
     "output_type": "stream",
     "text": [
      "C:\\Users\\abhin\\anaconda3\\lib\\site-packages\\seaborn\\distributions.py:2557: FutureWarning: `distplot` is a deprecated function and will be removed in a future version. Please adapt your code to use either `displot` (a figure-level function with similar flexibility) or `histplot` (an axes-level function for histograms).\n",
      "  warnings.warn(msg, FutureWarning)\n"
     ]
    },
    {
     "data": {
      "text/plain": [
       "<AxesSubplot:xlabel='Start_Time'>"
      ]
     },
     "execution_count": 49,
     "metadata": {},
     "output_type": "execute_result"
    },
    {
     "data": {
      "image/png": "[encoded data removed]",
      "text/plain": [
       "<Figure size 432x288 with 1 Axes>"
      ]
     },
     "metadata": {},
     "output_type": "display_data"
    }
   ],
   "source": [
    "sns.distplot(df.Start_Time.dt.hour, bins=24, kde=False, norm_hist=True)"
   ]
  },
  {
   "cell_type": "markdown",
   "id": "4a2c61e5",
   "metadata": {},
   "source": [
    "A high percentage of accidents happens between 2 to 5 pm due to large number of traffic in this time"
   ]
  },
  {
   "cell_type": "code",
   "execution_count": 50,
   "id": "b44919cd",
   "metadata": {},
   "outputs": [
    {
     "data": {
      "text/plain": [
       "<AxesSubplot:xlabel='Start_Time'>"
      ]
     },
     "execution_count": 50,
     "metadata": {},
     "output_type": "execute_result"
    },
    {
     "data": {
      "image/png": "[encoded data removed]",
      "text/plain": [
       "<Figure size 432x288 with 1 Axes>"
      ]
     },
     "metadata": {},
     "output_type": "display_data"
    }
   ],
   "source": [
    "sns.distplot(df.Start_Time.dt.dayofweek, bins=7, kde=False, norm_hist=True)"
   ]
  },
  {
   "cell_type": "code",
   "execution_count": 51,
   "id": "e52301b7",
   "metadata": {},
   "outputs": [
    {
     "name": "stderr",
     "output_type": "stream",
     "text": [
      "C:\\Users\\abhin\\anaconda3\\lib\\site-packages\\seaborn\\distributions.py:2557: FutureWarning: `distplot` is a deprecated function and will be removed in a future version. Please adapt your code to use either `displot` (a figure-level function with similar flexibility) or `histplot` (an axes-level function for histograms).\n",
      "  warnings.warn(msg, FutureWarning)\n"
     ]
    },
    {
     "data": {
      "text/plain": [
       "<AxesSubplot:xlabel='Start_Time'>"
      ]
     },
     "execution_count": 51,
     "metadata": {},
     "output_type": "execute_result"
    },
    {
     "data": {
      "image/png": "[encoded data removed]",
      "text/plain": [
       "<Figure size 432x288 with 1 Axes>"
      ]
     },
     "metadata": {},
     "output_type": "display_data"
    }
   ],
   "source": [
    "sundays_start_time = df.Start_Time[df.Start_Time.dt.dayofweek == 6]\n",
    "sns.distplot(sundays_start_time.dt.hour, bins=24, kde=False, norm_hist=True)"
   ]
  },
  {
   "cell_type": "code",
   "execution_count": 52,
   "id": "b97ab9a4",
   "metadata": {},
   "outputs": [
    {
     "name": "stderr",
     "output_type": "stream",
     "text": [
      "C:\\Users\\abhin\\anaconda3\\lib\\site-packages\\seaborn\\distributions.py:2557: FutureWarning: `distplot` is a deprecated function and will be removed in a future version. Please adapt your code to use either `displot` (a figure-level function with similar flexibility) or `histplot` (an axes-level function for histograms).\n",
      "  warnings.warn(msg, FutureWarning)\n"
     ]
    },
    {
     "data": {
      "text/plain": [
       "<AxesSubplot:xlabel='Start_Time'>"
      ]
     },
     "execution_count": 52,
     "metadata": {},
     "output_type": "execute_result"
    },
    {
     "data": {
      "image/png": "[encoded data removed]",
      "text/plain": [
       "<Figure size 432x288 with 1 Axes>"
      ]
     },
     "metadata": {},
     "output_type": "display_data"
    }
   ],
   "source": [
    "monday_start_time = df.Start_Time[df.Start_Time.dt.dayofweek == 0]\n",
    "sns.distplot(monday_start_time.dt.hour, bins=24, kde=False, norm_hist=True)"
   ]
  },
  {
   "cell_type": "code",
   "execution_count": 69,
   "id": "e39169c4",
   "metadata": {},
   "outputs": [
    {
     "data": {
      "text/plain": [
       "<AxesSubplot:xlabel='Start_Time'>"
      ]
     },
     "execution_count": 69,
     "metadata": {},
     "output_type": "execute_result"
    },
    {
     "data": {
      "image/png": "[encoded data removed]",
      "text/plain": [
       "<Figure size 432x288 with 1 Axes>"
      ]
     },
     "metadata": {},
     "output_type": "display_data"
    }
   ],
   "source": [
    "sns.distplot(df.Start_Time.dt.month, bins=12, kde=False, norm_hist=True)"
   ]
  },
  {
   "cell_type": "code",
   "execution_count": 70,
   "id": "945789c9",
   "metadata": {},
   "outputs": [
    {
     "data": {
      "text/plain": [
       "0          2016\n",
       "1          2016\n",
       "2          2016\n",
       "3          2016\n",
       "4          2016\n",
       "           ... \n",
       "2845337    2019\n",
       "2845338    2019\n",
       "2845339    2019\n",
       "2845340    2019\n",
       "2845341    2019\n",
       "Name: Start_Time, Length: 2845342, dtype: int64"
      ]
     },
     "execution_count": 70,
     "metadata": {},
     "output_type": "execute_result"
    }
   ],
   "source": [
    "df.Start_Time.dt.year"
   ]
  },
  {
   "cell_type": "code",
   "execution_count": 78,
   "id": "636b5150",
   "metadata": {},
   "outputs": [
    {
     "name": "stderr",
     "output_type": "stream",
     "text": [
      "C:\\Users\\abhin\\anaconda3\\lib\\site-packages\\seaborn\\distributions.py:2557: FutureWarning: `distplot` is a deprecated function and will be removed in a future version. Please adapt your code to use either `displot` (a figure-level function with similar flexibility) or `histplot` (an axes-level function for histograms).\n",
      "  warnings.warn(msg, FutureWarning)\n"
     ]
    },
    {
     "data": {
      "text/plain": [
       "<AxesSubplot:xlabel='Start_Time'>"
      ]
     },
     "execution_count": 78,
     "metadata": {},
     "output_type": "execute_result"
    },
    {
     "data": {
      "image/png": "[encoded data removed]",
      "text/plain": [
       "<Figure size 432x288 with 1 Axes>"
      ]
     },
     "metadata": {},
     "output_type": "display_data"
    }
   ],
   "source": [
    "df_2019 = df[df.Start_Time.dt.year == 2019]\n",
    "sns.distplot(df_2019.Start_Time.dt.month, bins=12, kde=False, norm_hist=True)"
   ]
  },
  {
   "cell_type": "raw",
   "id": "8cfa39db",
   "metadata": {},
   "source": [
    "Start longitude and latitude"
   ]
  },
  {
   "cell_type": "code",
   "execution_count": 79,
   "id": "accb9390",
   "metadata": {},
   "outputs": [
    {
     "data": {
      "text/plain": [
       "0          40.108910\n",
       "1          39.865420\n",
       "2          39.102660\n",
       "3          41.062130\n",
       "4          39.172393\n",
       "             ...    \n",
       "2845337    34.002480\n",
       "2845338    32.766960\n",
       "2845339    33.775450\n",
       "2845340    33.992460\n",
       "2845341    34.133930\n",
       "Name: Start_Lat, Length: 2845342, dtype: float64"
      ]
     },
     "execution_count": 79,
     "metadata": {},
     "output_type": "execute_result"
    }
   ],
   "source": [
    "df.Start_Lat"
   ]
  },
  {
   "cell_type": "code",
   "execution_count": 80,
   "id": "2e602216",
   "metadata": {},
   "outputs": [
    {
     "data": {
      "text/plain": [
       "0          -83.092860\n",
       "1          -84.062800\n",
       "2          -84.524680\n",
       "3          -81.537840\n",
       "4          -84.492792\n",
       "              ...    \n",
       "2845337   -117.379360\n",
       "2845338   -117.148060\n",
       "2845339   -117.847790\n",
       "2845340   -118.403020\n",
       "2845341   -117.230920\n",
       "Name: Start_Lng, Length: 2845342, dtype: float64"
      ]
     },
     "execution_count": 80,
     "metadata": {},
     "output_type": "execute_result"
    }
   ],
   "source": [
    "df.Start_Lng"
   ]
  },
  {
   "cell_type": "code",
   "execution_count": 81,
   "id": "c504d20f",
   "metadata": {},
   "outputs": [],
   "source": [
    "sample_df = df.sample(int(0.1 * len(df)))"
   ]
  },
  {
   "cell_type": "code",
   "execution_count": 82,
   "id": "704285ce",
   "metadata": {},
   "outputs": [
    {
     "data": {
      "text/plain": [
       "<AxesSubplot:xlabel='Start_Lng', ylabel='Start_Lat'>"
      ]
     },
     "execution_count": 82,
     "metadata": {},
     "output_type": "execute_result"
    },
    {
     "data": {
      "image/png": "[encoded data removed]",
      "text/plain": [
       "<Figure size 432x288 with 1 Axes>"
      ]
     },
     "metadata": {},
     "output_type": "display_data"
    }
   ],
   "source": [
    "sns.scatterplot(x=sample_df.Start_Lng, y=sample_df.Start_Lat, size=0.001)"
   ]
  },
  {
   "cell_type": "code",
   "execution_count": 91,
   "id": "19260b8a",
   "metadata": {},
   "outputs": [
    {
     "name": "stdout",
     "output_type": "stream",
     "text": [
      "Collecting foliumNote: you may need to restart the kernel to use updated packages.\n",
      "\n",
      "  Downloading folium-0.12.1.post1-py2.py3-none-any.whl (95 kB)\n",
      "Requirement already satisfied: requests in c:\\users\\abhin\\anaconda3\\lib\\site-packages (from folium) (2.25.1)\n",
      "Requirement already satisfied: numpy in c:\\users\\abhin\\anaconda3\\lib\\site-packages (from folium) (1.20.1)\n",
      "Requirement already satisfied: jinja2>=2.9 in c:\\users\\abhin\\anaconda3\\lib\\site-packages (from folium) (2.11.3)\n",
      "Collecting branca>=0.3.0\n",
      "  Downloading branca-0.5.0-py3-none-any.whl (24 kB)\n",
      "Requirement already satisfied: MarkupSafe>=0.23 in c:\\users\\abhin\\anaconda3\\lib\\site-packages (from jinja2>=2.9->folium) (1.1.1)\n",
      "Requirement already satisfied: chardet<5,>=3.0.2 in c:\\users\\abhin\\anaconda3\\lib\\site-packages (from requests->folium) (4.0.0)\n",
      "Requirement already satisfied: certifi>=2017.4.17 in c:\\users\\abhin\\anaconda3\\lib\\site-packages (from requests->folium) (2020.12.5)\n",
      "Requirement already satisfied: urllib3<1.27,>=1.21.1 in c:\\users\\abhin\\anaconda3\\lib\\site-packages (from requests->folium) (1.26.4)\n",
      "Requirement already satisfied: idna<3,>=2.5 in c:\\users\\abhin\\anaconda3\\lib\\site-packages (from requests->folium) (2.10)\n",
      "Installing collected packages: branca, folium\n",
      "Successfully installed branca-0.5.0 folium-0.12.1.post1\n"
     ]
    }
   ],
   "source": [
    "pip install folium"
   ]
  },
  {
   "cell_type": "code",
   "execution_count": 92,
   "id": "794ecbeb",
   "metadata": {},
   "outputs": [],
   "source": [
    "import folium"
   ]
  },
  {
   "cell_type": "code",
   "execution_count": 93,
   "id": "0b2169cc",
   "metadata": {},
   "outputs": [
    {
     "data": {
      "text/plain": [
       "(40.10891, -83.09286)"
      ]
     },
     "execution_count": 93,
     "metadata": {},
     "output_type": "execute_result"
    }
   ],
   "source": [
    "lat, lon = df.Start_Lat[0], df.Start_Lng[0]\n",
    "lat, lon"
   ]
  },
  {
   "cell_type": "code",
   "execution_count": 94,
   "id": "35da33e5",
   "metadata": {},
   "outputs": [
    {
     "name": "stdout",
     "output_type": "stream",
     "text": [
      "1486003    34.784611\n",
      "1174209    38.941023\n",
      "1513243    38.467122\n",
      "2424989    38.920520\n",
      "2457134    41.202430\n",
      "             ...    \n",
      "285720     34.289184\n",
      "2014816    37.496562\n",
      "1209480    40.510745\n",
      "153964     42.050591\n",
      "2384380    33.659134\n",
      "Name: Start_Lat, Length: 100, dtype: float64\n",
      "1486003    -82.595709\n",
      "1174209    -94.593584\n",
      "1513243   -121.361987\n",
      "2424989   -110.430100\n",
      "2457134    -95.948110\n",
      "              ...    \n",
      "285720    -118.408421\n",
      "2014816    -77.029111\n",
      "1209480   -111.941136\n",
      "153964     -88.042264\n",
      "2384380   -117.750187\n",
      "Name: Start_Lng, Length: 100, dtype: float64\n"
     ]
    }
   ],
   "source": [
    "for x in df[['Start_Lat', 'Start_Lng']].sample(100).iteritems():\n",
    "    print(x[1])"
   ]
  },
  {
   "cell_type": "code",
   "execution_count": 95,
   "id": "e847e3da",
   "metadata": {},
   "outputs": [
    {
     "data": {
      "text/plain": [
       "<zip at 0x2580ae45b80>"
      ]
     },
     "execution_count": 95,
     "metadata": {},
     "output_type": "execute_result"
    }
   ],
   "source": [
    "zip(list(df.Start_Lat), list(df.Start_Lng))"
   ]
  },
  {
   "cell_type": "code",
   "execution_count": 97,
   "id": "11a6e5ef",
   "metadata": {},
   "outputs": [],
   "source": [
    "from folium.plugins import HeatMap"
   ]
  },
  {
   "cell_type": "code",
   "execution_count": 98,
   "id": "45ee7995",
   "metadata": {},
   "outputs": [],
   "source": [
    "sample_df = df.sample(int(0.001 * len(df)))\n",
    "lat_lon_pairs = list(zip(list(sample_df.Start_Lat), list(sample_df.Start_Lng)))"
   ]
  },
  {
   "cell_type": "code",
   "execution_count": 99,
   "id": "51b4d243",
   "metadata": {},
   "outputs": [
    {
     "data": {
      "text/html": [
       "<div style=\"width:100%;\"><div style=\"position:relative;width:100%;height:0;padding-bottom:60%;\"><span style=\"color:#565656\">Make this Notebook Trusted to load map: File -> Trust Notebook</span><iframe srcdoc=\"&lt;!DOCTYPE html&gt;\n",
       "&lt;head&gt;    \n",
       "    &lt;meta http-equiv=&quot;content-type&quot; content=&quot;text/html; charset=UTF-8&quot; /&gt;\n",
       "    \n",
       "        &lt;script&gt;\n",
       "            L_NO_TOUCH = false;\n",
       "            L_DISABLE_3D = false;\n",
       "        &lt;/script&gt;\n",
       "    \n",
       "    &lt;style&gt;html, body {width: 100%;height: 100%;margin: 0;padding: 0;}&lt;/style&gt;\n",
       "    &lt;style&gt;#map {position:absolute;top:0;bottom:0;right:0;left:0;}&lt;/style&gt;\n",
       "    &lt;script src=&quot;https://cdn.jsdelivr.net/npm/leaflet@1.6.0/dist/leaflet.js&quot;&gt;&lt;/script&gt;\n",
       "    &lt;script src=&quot;https://code.jquery.com/jquery-1.12.4.min.js&quot;&gt;&lt;/script&gt;\n",
       "    &lt;script src=&quot;https://maxcdn.bootstrapcdn.com/bootstrap/3.2.0/js/bootstrap.min.js&quot;&gt;&lt;/script&gt;\n",
       "    &lt;script src=&quot;https://cdnjs.cloudflare.com/ajax/libs/Leaflet.awesome-markers/2.0.2/leaflet.awesome-markers.js&quot;&gt;&lt;/script&gt;\n",
       "    &lt;link rel=&quot;stylesheet&quot; href=&quot;https://cdn.jsdelivr.net/npm/leaflet@1.6.0/dist/leaflet.css&quot;/&gt;\n",
       "    &lt;link rel=&quot;stylesheet&quot; href=&quot;https://maxcdn.bootstrapcdn.com/bootstrap/3.2.0/css/bootstrap.min.css&quot;/&gt;\n",
       "    &lt;link rel=&quot;stylesheet&quot; href=&quot;https://maxcdn.bootstrapcdn.com/bootstrap/3.2.0/css/bootstrap-theme.min.css&quot;/&gt;\n",
       "    &lt;link rel=&quot;stylesheet&quot; href=&quot;https://maxcdn.bootstrapcdn.com/font-awesome/4.6.3/css/font-awesome.min.css&quot;/&gt;\n",
       "    &lt;link rel=&quot;stylesheet&quot; href=&quot;https://cdnjs.cloudflare.com/ajax/libs/Leaflet.awesome-markers/2.0.2/leaflet.awesome-markers.css&quot;/&gt;\n",
       "    &lt;link rel=&quot;stylesheet&quot; href=&quot;https://cdn.jsdelivr.net/gh/python-visualization/folium/folium/templates/leaflet.awesome.rotate.min.css&quot;/&gt;\n",
       "    \n",
       "            &lt;meta name=&quot;viewport&quot; content=&quot;width=device-width,\n",
       "                initial-scale=1.0, maximum-scale=1.0, user-scalable=no&quot; /&gt;\n",
       "            &lt;style&gt;\n",
       "                #map_f5ac9901a43669c3a38b79e59406af49 {\n",
       "                    position: relative;\n",
       "                    width: 100.0%;\n",
       "                    height: 100.0%;\n",
       "                    left: 0.0%;\n",
       "                    top: 0.0%;\n",
       "                }\n",
       "            &lt;/style&gt;\n",
       "        \n",
       "    &lt;script src=&quot;https://cdn.jsdelivr.net/gh/python-visualization/folium@master/folium/templates/leaflet_heat.min.js&quot;&gt;&lt;/script&gt;\n",
       "&lt;/head&gt;\n",
       "&lt;body&gt;    \n",
       "    \n",
       "            &lt;div class=&quot;folium-map&quot; id=&quot;map_f5ac9901a43669c3a38b79e59406af49&quot; &gt;&lt;/div&gt;\n",
       "        \n",
       "&lt;/body&gt;\n",
       "&lt;script&gt;    \n",
       "    \n",
       "            var map_f5ac9901a43669c3a38b79e59406af49 = L.map(\n",
       "                &quot;map_f5ac9901a43669c3a38b79e59406af49&quot;,\n",
       "                {\n",
       "                    center: [0, 0],\n",
       "                    crs: L.CRS.EPSG3857,\n",
       "                    zoom: 1,\n",
       "                    zoomControl: true,\n",
       "                    preferCanvas: false,\n",
       "                }\n",
       "            );\n",
       "\n",
       "            \n",
       "\n",
       "        \n",
       "    \n",
       "            var tile_layer_f80ed1e936e788b9a7fdcbc9ef7d5151 = L.tileLayer(\n",
       "                &quot;https://{s}.tile.openstreetmap.org/{z}/{x}/{y}.png&quot;,\n",
       "                {&quot;attribution&quot;: &quot;Data by \\u0026copy; \\u003ca href=\\&quot;http://openstreetmap.org\\&quot;\\u003eOpenStreetMap\\u003c/a\\u003e, under \\u003ca href=\\&quot;http://www.openstreetmap.org/copyright\\&quot;\\u003eODbL\\u003c/a\\u003e.&quot;, &quot;detectRetina&quot;: false, &quot;maxNativeZoom&quot;: 18, &quot;maxZoom&quot;: 18, &quot;minZoom&quot;: 0, &quot;noWrap&quot;: false, &quot;opacity&quot;: 1, &quot;subdomains&quot;: &quot;abc&quot;, &quot;tms&quot;: false}\n",
       "            ).addTo(map_f5ac9901a43669c3a38b79e59406af49);\n",
       "        \n",
       "    \n",
       "            var heat_map_6e5adcc63345104a7e606fab542fbe7d = L.heatLayer(\n",
       "                [[33.930086, -118.020655], [36.87236400000001, -76.391772], [37.813975, -120.271992], [35.017001, -85.27349699999998], [27.96048, -82.733919], [40.546035, -77.61334000000002], [44.09911, -94.268826], [33.657176, -117.578693], [45.03151, -93.288034], [44.06223, -122.99379], [34.93654, -81.87913499999998], [35.56480999999999, -82.49953000000002], [33.927483, -117.419772], [40.209063, -74.57825799999998], [27.863621, -82.326522], [33.540706, -87.451622], [38.52854, -121.46971], [43.153665, -77.49454899999998], [39.135629, -94.498774], [33.774593, -118.087333], [43.6849, -93.33316], [41.76982, -72.68236999999998], [41.37351, -89.0953], [35.19499000000001, -80.83686999999998], [35.459079, -82.574975], [30.50385, -97.68382], [25.769722, -80.333529], [34.155744, -118.242268], [46.231125, -94.356203], [34.208557, -117.149406], [45.065392, -94.114347], [39.54698, -74.46696999999998], [33.873348, -118.266304], [39.140346, -121.071259], [30.373334000000003, -86.25434], [33.8723, -117.7459], [45.320737, -121.611416], [40.90198, -74.13600000000002], [43.85515, -117.60595], [38.880252, -77.125578], [45.57258, -122.15511], [36.833655, -76.133104], [40.807537, -74.07724], [27.757957, -82.654809], [40.918611, -73.88286], [32.72346, -117.164223], [34.030444, -117.601691], [37.75835, -122.2121], [34.055439, -118.214231], [42.945357, -78.766295], [25.733831, -80.335894], [33.977594, -118.438509], [25.8444, -80.20666999999997], [28.59766, -81.36514], [33.748615, -118.262854], [33.85672, -117.97898], [41.193125, -124.110318], [39.448481, -87.45671800000002], [38.27089, -122.05167], [45.026902, -93.286115], [40.913927, -123.825444], [33.70003, -84.40397], [35.309811, -90.252846], [37.292841, -121.031037], [38.678468, -121.230351], [40.105993, -76.306162], [28.762558, -81.27119300000003], [40.72799000000001, -73.886415], [40.118096, -75.347522], [37.477502, -76.913451], [34.172007, -118.47146399999998], [44.426184, -117.314081], [38.058003, -121.259633], [39.669667, -86.095658], [34.321389, -119.388056], [40.745189, -74.213447], [34.16534, -118.46973], [34.061809000000004, -118.457189], [42.08328, -88.33539], [40.045754, -74.247837], [25.81169, -80.20049], [36.906213, -121.755956], [29.745473, -95.496976], [28.493792, -81.459929], [40.001672, -74.290408], [30.451281, -91.127427], [33.364599, -80.197288], [45.485962, -92.99662], [37.797673, -121.106956], [35.25373, -82.24632], [45.13034, -93.39961], [40.47555300000001, -123.654631], [30.225708, -81.51420300000002], [29.510167, -98.539477], [30.65846, -87.936753], [39.8723, -75.08516999999998], [27.051188, -82.39738299999998], [37.552996, -77.443946], [40.11703, -75.27853], [35.261409, -80.795248], [47.589326, -122.258984], [40.023011, -122.095093], [27.93795, -82.24454], [34.02553, -117.56325], [44.966033, -93.259667], [25.768453, -80.336301], [34.319747, -117.481361], [40.828916, -73.845916], [41.81463, -71.41029], [45.23246, -123.15839], [34.645722, -118.154686], [25.843195, -80.229393], [41.078084, -78.785969], [32.943546999999995, -96.786077], [43.015068, -112.4083], [40.69384, -73.99908], [27.404705, -80.39875500000002], [34.04562, -118.215357], [41.97890200000001, -71.294157], [33.876929, -118.186269], [39.663783, -104.923058], [34.31796, -119.365344], [39.71471, -105.0013], [37.63847, -121.049764], [34.031636, -118.187114], [45.18911, -123.21683], [34.558408, -118.677113], [32.893313, -80.01848100000002], [37.372356, -77.4184], [34.87072, -82.42069000000002], [39.20433, -112.16983], [36.009868, -83.525522], [47.58224000000001, -122.18773], [47.32938, -105.383641], [32.2757, -90.19353], [34.032789, -118.028932], [42.989276, -83.64514100000002], [29.093432, -82.18512], [38.31681, -85.841923], [37.826349, -122.265198], [44.080935, -123.17282], [26.49536, -81.84919000000002], [26.226734000000004, -80.136298], [33.944759999999995, -80.265716], [38.571694, -77.332081], [34.291645, -118.468011], [35.065276000000004, -80.845497], [39.057398, -77.077962], [42.488566, -92.336158], [45.075224, -93.05278], [40.152193, -123.541496], [44.458826, -94.201716], [34.13562, -117.97225], [40.811162, -74.088535], [42.006969, -93.673601], [44.08, -92.75985], [34.145513, -118.758077], [33.764327, -78.973352], [27.678197, -80.88880400000002], [32.77993, -117.096866], [29.56291, -98.339148], [38.023922, -121.239563], [27.12338, -80.27547], [34.162151, -118.15855], [38.86513, -77.253578], [34.034068, -118.379796], [36.066529, -79.326003], [40.58871, -111.43666], [25.714093, -80.428666], [37.36061, -121.90502], [34.150539, -118.677772], [37.965301, -122.049375], [36.64317, -121.823154], [34.037174, -118.303688], [44.906177, -122.958213], [40.063901, -75.323518], [40.78941, -73.937421], [33.564781, -117.643334], [32.842659999999995, -97.34712], [40.66505, -122.783203], [40.630306, -75.471857], [45.036896, -93.07365], [35.564049, -120.70068700000002], [44.966843, -93.219984], [32.72201, -117.10362], [33.117490000000004, -111.84189], [33.87592, -118.16551], [38.979912, -77.092155], [25.748801, -80.335788], [26.09198, -80.22249000000002], [35.272372, -80.844862], [26.165739, -80.168089], [33.721, -117.97198], [40.096623, -75.297155], [30.480853000000003, -87.24760699999999], [42.28213, -85.3718], [38.906031, -122.671376], [40.266705, -80.466238], [41.008583, -76.243325], [28.488834000000004, -81.429064], [38.524982, -121.455382], [40.72172, -73.42175999999998], [37.549799, -77.430127], [29.7257, -95.47638], [33.201045, -117.37022], [37.181614, -93.262434], [36.26174, -86.71236800000001], [33.174896999999994, -117.211299], [41.63287, -122.752631], [38.063195, -78.947464], [36.09416, -79.91506], [39.873013, -75.09187], [43.11252, -87.91769000000002], [34.326328000000004, -118.504318], [40.725912, -111.939], [39.100191, -94.679652], [42.947923, -78.909049], [42.37853, -83.43658], [42.661137, -122.761506], [39.44337, -76.81983000000002], [37.643592, -77.589112], [41.531312, -76.954364], [28.317855, -81.23824], [44.44201, -93.94391], [41.706951, -87.79301600000002], [34.019301, -118.115759], [27.404828, -82.505505], [44.814337, -93.607581], [45.56516, -122.55718], [39.75817, -105.01154], [30.58857, -87.08506700000002], [41.10637, -112.00682], [41.448576, -78.55631899999999], [30.40263, -91.50081], [43.663219, -116.588409], [33.918145, -117.880747], [38.665662, -76.875099], [34.617933, -118.18365], [26.55576, -80.14928], [28.547286, -81.422938], [32.716183, -96.774456], [39.75623, -84.21197], [33.917874, -118.178869], [27.937605, -82.283439], [36.186, -86.762513], [42.24059000000001, -83.33629], [29.14565300000001, -82.184979], [39.297894, -121.595013], [32.89218, -96.76912], [47.42704000000001, -119.28213], [45.903528, -123.853951], [40.724397, -111.914495], [38.553589, -121.690632], [32.364922, -86.266828], [26.30181, -80.25757], [25.936767, -80.21286500000002], [33.940672, -118.361334], [36.109581, -86.837408], [39.024346, -121.551584], [41.79733, -71.40356], [45.312783, -93.779234], [38.76857, -104.77897], [29.34071500000001, -81.74054], [44.118267, -116.944956], [28.421019, -81.42295], [38.02586, -122.25947], [36.286779, -80.8178], [37.28795, -77.38936], [34.41246, -84.293307], [29.583075, -95.471782], [45.141609, -93.497031], [33.909748, -118.222518], [40.05194, -76.255009], [34.13989, -80.91402], [38.500528, -106.331953], [37.729015, -77.102837], [37.642548, -120.645804], [39.195839, -94.762305], [36.128526, -86.816109], [33.792097, -117.890152], [39.870459, -74.216875], [39.99683, -74.99288], [34.134596, -117.674463], [41.80538, -86.324438], [47.172052, -122.47091100000002], [32.491522, -84.94306800000003], [39.957949, -75.162566], [29.733398, -95.429016], [34.0516, -118.458568], [37.111616, -80.445084], [32.974437, -80.487623], [33.49486, -111.9869], [40.744568, -77.874323], [33.840798, -117.87593], [40.376504, -74.46261700000002], [39.914735, -76.704472], [38.410029, -82.332945], [28.343135, -81.376717], [41.382672, -122.413778], [45.196367, -93.556294], [40.655796, -111.892892], [26.235806, -80.136362], [30.374443, -97.782204], [38.75382000000001, -90.33921], [45.587685, -118.564453], [34.193764, -117.278555], [37.367569, -77.931035], [29.977581, -90.06110699999998], [34.677545, -92.408558], [40.526136, -74.32591], [32.80526, -117.11307], [38.919024, -76.93104100000002], [40.258401, -75.65563900000002], [32.663784, -97.334775], [33.106323, -117.312301], [41.59583, -93.619731], [39.192041, -76.711617], [32.79076, -96.75858], [41.29393, -87.30124], [40.371526, -122.284258], [26.108139, -80.286272], [37.581321, -77.469288], [30.38305, -81.672526], [35.095009999999995, -89.97013000000004], [37.770341, -121.173759], [33.977135, -118.386517], [39.01943, -76.93188], [36.593409, -121.876991], [43.24446, -77.8833], [42.520924, -123.366062], [35.102702, -81.63029499999998], [44.67371, -93.13651], [47.843721, -122.013223], [39.76066, -104.90275], [45.735987, -118.03433], [44.966636, -93.27409], [38.740305, -121.273552], [25.703506, -80.33425600000002], [30.591934, -85.395494], [34.384627, -118.57167], [34.989421, -85.289772], [34.26283, -118.47274], [37.68488, -77.67112], [34.349744, -92.14437], [30.690949, -86.07170699999998], [26.25423, -80.13651999999998], [27.472985, -82.563068], [40.122118, -74.976864], [26.00223, -80.1671], [33.870023, -117.704225], [48.018233, -122.699241], [44.974175, -93.290394], [38.00557, -122.08276], [37.572373, -77.456756], [45.04283, -93.18944], [38.645406, -90.128413], [35.24172, -80.84956], [36.501617, -121.395061], [38.623971, -121.417755], [25.880829, -80.21045], [32.877866999999995, -96.741496], [40.77699000000001, -74.044386], [33.542588, -117.673558], [28.380214, -81.504968], [37.653805, -77.44104899999998], [39.326092, -120.20762], [35.025861, -79.559639], [41.42689, -73.06753], [34.189402, -118.474088], [25.928132, -80.293405], [28.435981, -81.406193], [40.727239, -74.130652], [39.61161, -78.235683], [29.969477, -90.047965], [34.017237, -118.239669], [38.80116, -77.52277], [25.887369, -80.210684], [44.952166, -95.717121], [40.63232100000001, -111.891506], [45.196799, -93.55677], [33.80523, -118.28834], [36.955539, -76.408771], [36.745818, -119.805251], [36.14417, -86.7388], [33.949888, -84.135178], [31.324781, -89.33010300000002], [36.743626, -119.809869], [34.853035, -82.232414], [40.59215, -112.4229], [27.461622, -82.587556], [34.426715, -117.380183], [34.080458, -81.155335], [26.715299, -81.811687], [45.80371, -119.32041], [33.97867, -118.07803], [29.945422, -90.083269], [34.036919, -118.300363], [33.9213, -118.08314], [45.744827, -108.377884], [33.257096000000004, -117.157841], [35.82483, -78.62151], [45.560824, -122.563631], [29.356915, -98.430958], [32.740803, -117.180818], [45.587152, -118.639936], [26.018784, -80.248568], [39.72577, -105.041619], [37.971271, -121.24253], [46.169467, -123.435305], [36.337218, -121.252952], [40.078125, -74.942408], [36.83365300000001, -76.291376], [32.923392, -80.039653], [33.46178, -112.12223], [38.013414, -122.090753], [40.197326, -78.67202900000002], [33.694652000000005, -117.091621], [40.74905, -73.615291], [34.008063, -118.158001], [33.879923, -117.655172], [34.05413, -118.450845], [37.717973, -121.70142], [30.490453, -91.164922], [34.227318, -117.259916], [28.304742, -81.239103], [44.89019, -93.39547], [45.55678, -122.90742], [43.633347, -73.996526], [36.53904, -121.909417], [45.655973, -122.57781], [27.95868, -82.45586999999998], [34.883063, -120.436649], [39.315411, -123.094294], [42.971419, -85.71476], [42.030437, -83.29312900000002], [41.78322, -87.63155], [33.85606, -117.98707], [38.174458, -78.494076], [30.344328000000004, -81.54612900000002], [40.847867, -73.934797], [34.060331, -81.04945699999998], [38.208855, -122.198564], [41.66805, -83.57063000000002], [36.07158, -86.63632], [39.89122, -121.57766], [34.436769, -118.319297], [33.696874, -117.178527], [37.105046, -121.014994], [33.917079, -118.044428], [34.08186, -118.22367], [36.088145, -95.886479], [40.131093, -75.529236], [37.463522, -120.84908], [29.70913, -95.22475], [34.01906, -117.73992], [43.841985, -123.048758], [47.65678, -122.32231000000002], [32.96118, -96.72705], [27.949379, -82.52699], [38.93907100000001, -92.628871], [32.221509999999995, -110.9097], [30.408257, -97.69704], [33.947082, -118.279729], [32.867191, -96.770352], [33.949675, -118.170308], [35.01811, -85.181248], [29.74216, -95.35743], [34.319790000000005, -118.49444], [36.758015, -76.29597], [35.86145, -78.68174599999998], [33.456041, -112.035983], [40.846059, -73.930479], [32.927040000000005, -96.76204], [34.150418, -118.280711], [40.066805, -75.10594300000002], [25.963158, -80.155089], [34.15315, -118.28681], [38.321359, -122.491803], [33.668729, -112.076457], [34.11972, -117.7578], [27.784714, -82.66172399999998], [41.802722, -71.5101], [33.40743, -111.90908], [40.78323, -82.40987], [41.134539, -73.29371], [38.597146, -121.41526100000002], [34.813513, -82.55029300000002], [35.084077, -81.70353], [44.94008, -124.02145], [25.702012, -80.342708], [34.669793, -92.265061], [34.145195, -117.277194], [25.757415, -80.199815], [38.556048, -121.340194], [29.726721, -95.349826], [30.533928000000003, -87.296396], [29.72523, -95.46022], [34.05351, -118.457502], [38.62871, -90.316], [37.725212, -121.398166], [37.171758, -81.139966], [40.817674, -73.28002], [32.353588, -95.343417], [33.99746, -117.83922], [44.03039, -116.95111], [33.142062, -117.104572], [42.92237100000001, -74.193302], [34.18209, -118.133226], [43.604079, -93.348119], [44.75102, -117.83294], [33.951173, -117.38518], [45.58047, -122.54358], [27.914314, -82.34840799999998], [33.765965, -117.932093], [33.234783, -117.250964], [41.755336, -79.078547], [26.243812, -81.68816899999999], [33.85347, -118.28048], [39.357951, -108.170376], [38.703549, -77.775469], [38.665502, -121.382971], [39.141077, -77.61484499999997], [34.14867, -118.372888], [43.118087, -76.226534], [33.937231, -118.094083], [38.87544000000001, -76.973639], [37.689969, -122.096458], [34.358533, -118.555201], [34.717494, -119.115325], [45.138915, -92.999381], [41.14545, -78.78291999999998], [38.755849, -76.993077], [26.085686, -80.203581], [34.066884, -117.511589], [45.252532, -121.174623], [42.363938, -87.969832], [29.717852, -95.519928], [41.06689, -81.57239], [37.807827, -121.296842], [37.39227800000001, -121.999993], [25.947414, -80.148699], [38.920288, -77.216437], [32.664805, -117.080454], [25.89255, -80.162869], [42.621397, -123.382804], [27.020882, -82.39063], [41.665467, -122.606164], [27.923229, -82.32697900000002], [39.19648, -84.47322], [33.039765, -80.23246999999998], [30.337961, -81.538842], [34.006207, -117.416046], [35.833848, -78.63358000000002], [42.071988, -121.848478], [37.629111, -77.534405], [36.752936, -121.663959], [43.209514, -83.529827], [42.179871, -120.454262], [38.01214, -121.86782], [32.69423, -96.84444], [32.265107, -110.9161], [28.19355, -82.460719], [38.606612, -121.39218], [32.757289, -117.204257], [42.56289, -123.37215], [39.244889, -94.47822], [38.18986, -85.73586], [40.73386, -73.865622], [34.042949, -118.272635], [35.944229, -83.99812800000002], [28.492141, -81.458805], [33.678057, -117.880947], [32.78221, -117.00528], [34.06578, -117.99423], [28.324073, -80.771259], [39.798536, -86.165571], [32.753635, -117.200142], [41.43761, -81.84588000000002], [38.61129, -112.98596], [37.366436, -121.901034], [40.695816, -73.964563], [39.19423, -78.134068], [26.045011, -80.162547], [33.797303, -117.877689], [39.00511, -77.08173000000002], [37.70257700000001, -121.746857], [39.033039, -76.944133], [25.673202, -80.384203], [34.743112, -92.391029], [44.763859, -121.242132], [33.527395, -117.62316], [39.096112, -94.560859], [31.265644, -83.47149300000002], [34.06722, -117.4266], [44.37833, -120.94706], [35.202058, -80.832779], [38.681278000000006, -121.539958], [41.87065, -87.76884], [38.961721, -77.18741700000002], [34.062351, -118.248674], [28.523878000000003, -81.31141600000002], [40.124567, -75.352758], [42.398876, -82.98253199999998], [28.223724, -82.179968], [33.857535, -118.284784], [32.648867, -96.776129], [36.231945, -86.700823], [43.436735, -121.319677], [45.28647, -93.00293], [25.796986, -80.335534], [42.43064, -87.93812], [34.852702, -82.275882], [34.07584, -117.62046], [37.565356, -77.454131], [43.23079, -77.62614], [36.7757, -80.816245], [40.74495, -73.40075], [38.103748, -122.22982], [28.58015, -81.750857], [40.137895, -74.682644], [27.196614, -80.399938], [39.695929, -86.106045], [37.823518, -121.988222], [38.802161, -77.510604], [27.494538, -82.497564], [28.33114, -81.489503], [25.811491, -80.198247], [34.140754, -117.248314], [41.148678, -74.1882], [46.743705, -92.153272], [38.976502, -76.311269], [34.135614000000004, -117.965543], [34.056125, -118.241182], [42.34096, -88.05336899999998], [33.84514, -117.824854], [33.860621, -84.29271899999998], [27.876125, -82.762286], [39.90243, -75.11236], [34.0542, -118.20319], [37.594715, -77.602096], [34.173793, -118.849258], [46.7377, -119.08059], [27.94462, -82.353752], [25.727416, -80.260416], [33.206014, -81.35619799999998], [35.010471, -85.15468299999998], [46.800652, -92.073529], [34.027789, -117.753702], [40.011283, -75.29777], [40.597266, -74.668582], [28.409451, -81.473887], [40.432841, -80.022847], [37.35929, -77.43134], [26.17435, -81.71909000000002], [33.905532, -118.261767], [26.188228, -80.152108], [42.932443, -83.63595], [25.686745, -80.446163], [25.799362, -80.247807], [29.72587, -95.476573], [34.034377, -118.703311], [33.605128, -117.691142], [45.829608, -95.140052], [28.241761, -82.350522], [30.44262800000001, -91.138463], [37.363415, -121.896941], [29.940612, -90.100943], [33.078848, -117.071525], [25.577061, -80.371183], [25.924727, -80.294154], [33.991529, -118.39113], [40.816547, -124.089189], [36.956248, -120.872374], [42.28075, -87.97394], [34.120377000000005, -118.230915], [30.269340000000003, -97.747346], [41.207443, -111.970774], [40.138523, -111.949542], [29.869948, -95.407429], [41.07646, -75.57133], [38.43322, -122.702112], [28.486733, -81.40736700000002], [31.78211, -106.40258], [39.08753, -84.7897], [37.418747, -77.48236899999998], [37.23332, -93.372374], [29.828194, -95.435022], [29.426839, -98.500901], [37.945393, -121.308084], [40.520608, -76.095214], [37.48302, -77.47843], [38.943349, -94.537667], [39.606001, -77.310356], [25.577361, -80.370664], [25.78711400000001, -80.210988], [40.611637, -73.897165], [28.452926, -80.893117], [38.26968, -122.66705], [28.079011, -80.691385], [37.60412, -88.99526], [45.835029, -95.311051], [39.1173, -77.168901], [35.124357, -80.816978], [41.44877, -81.68970999999998], [27.619156, -81.54797099999998], [38.4582, -81.49280999999998], [43.132879, -79.046883], [25.882785, -80.245746], [32.829692, -81.051689], [38.217453000000006, -122.136998], [32.936265, -80.038962], [32.37654000000001, -86.320932], [33.504461, -80.66476800000002], [36.48706, -119.324358], [39.296616, -94.685638], [25.734148, -80.28236700000002], [25.662584, -80.385837], [44.501162, -122.855977], [34.053509000000005, -118.231432], [40.095534, -122.101752], [32.782462, -96.811298], [32.843011, -81.125058], [39.22911, -121.094894], [25.728437, -80.415559], [44.26281, -121.17716], [32.759706, -97.05141], [37.743713, -121.435], [34.325128, -118.416972], [25.64395, -80.333164], [45.570935, -122.15913799999998], [36.186995, -86.79555400000002], [28.56034600000001, -81.286019], [33.61886, -84.43324], [34.243363, -119.192632], [34.056515999999995, -81.130787], [34.08746, -117.647804], [37.258397, -121.954012], [39.125038, -84.4977], [42.94677, -71.46221], [33.46175, -112.074016], [28.817341, -82.088962], [43.67786, -70.69525300000002], [37.023392, -80.73040300000002], [25.74753, -80.337365], [27.893857, -82.787025], [37.724015, -122.401476], [37.60368, -122.06436], [26.082433, -80.172632], [37.792082, -122.180873], [30.426436, -91.068652], [36.147511, -95.985145], [45.416593, -122.743858], [32.715740000000004, -117.12309], [35.87199000000001, -78.70100000000002], [34.35595900000001, -119.440598], [38.794881, -76.998721], [33.604484, -117.690128], [39.400888, -76.664797], [38.588658, -121.29137], [40.76214, -73.09444], [38.55975, -121.51411], [44.826618, -123.014782], [37.533667, -79.686851], [25.777752, -80.386009], [35.388638, -119.140644], [42.870051, -73.82024], [35.26054699999999, -80.795212], [40.444182, -80.163084], [34.090586, -117.301701], [34.071853999999995, -117.300499], [39.871476, -75.102013], [38.993986, -93.590394], [27.821137, -82.678503], [38.12565, -110.616733], [42.37106, -83.05438000000002], [48.04373, -122.18111], [45.95354, -117.26973], [34.13387, -118.35445], [32.3627, -111.09409], [32.894412, -96.727111], [44.992918, -93.400712], [34.049875, -118.222479], [41.513895, -93.680632], [34.072177, -117.89789], [37.576295, -79.645983], [37.783449, -121.240922], [37.7009, -121.79503], [41.74251, -72.66301999999997], [34.165681, -79.764472], [39.700373, -86.15383], [38.371335, -121.300857], [38.481561, -121.430454], [37.5818, -122.049516], [35.30505, -80.85837], [45.303425, -93.565715], [33.881840000000004, -118.19171], [27.923654, -82.730188], [28.000390000000003, -82.33516999999998], [36.371901, -119.030128], [38.845671, -77.43626400000002], [32.08813, -86.28976999999998], [33.75288, -84.71136], [37.89406, -77.458697], [37.472938, -77.655047], [40.63033, -111.85807], [25.793902, -80.303568], [37.739785, -121.590682], [40.20331, -105.13055], [39.181698, -76.875511], [42.25966, -88.159449], [43.00513, -76.11886], [35.11347, -89.86961], [29.933439, -90.006488], [28.210354, -81.476398], [35.3554, -80.7812], [34.349629, -84.880443], [38.827638, -76.878033], [33.672270000000005, -80.89782], [33.772088000000004, -117.909208], [27.82149, -82.79524], [39.453932, -76.316152], [27.870072, -82.34775400000002], [45.10912, -93.301416], [41.713759, -87.80176800000002], [39.94577, -75.1898], [33.78475, -117.83119], [34.279158, -118.469648], [29.134892, -81.352501], [44.949027, -95.513323], [37.678887, -122.126539], [39.94845, -75.186352], [34.120776, -117.889286], [39.75948, -75.04741], [35.73968, -78.78868], [33.272101, -87.749534], [34.09796, -83.80724000000002], [34.03235, -117.759093], [36.07165, -115.115853], [25.923052, -80.309213], [34.391839000000004, -82.80846], [28.015788, -82.32954000000002], [45.27168, -93.00734], [41.052121, -76.86282299999998], [32.742709999999995, -97.22419], [33.873616, -118.235956], [42.270951, -84.432498], [28.539112, -81.309354], [32.802172, -96.74754], [42.298635, -83.960727], [39.106536, -94.58792], [34.030162, -117.684527], [32.777355, -117.1624], [38.667592, -121.540159], [45.890461, -108.458929], [32.617217, -96.822885], [34.90988, -81.98249], [41.666854, -71.48974399999999], [32.78096, -97.212449], [33.97992, -84.53735], [45.50058, -122.67313], [36.0823, -79.96484], [29.887494, -95.290089], [46.117856, -122.886563], [36.163664, -119.152751], [35.04833, -85.311652], [28.577486, -81.476862], [34.016342, -118.373927], [42.565822, -83.0295], [28.385324, -81.40444000000002], [41.810633, -87.950616], [33.893156, -118.267779], [36.471614, -119.132552], [28.5656, -81.195948], [32.687068, -96.747666], [44.965882, -93.247816], [40.603483, -77.609523], [28.486835, -81.41856999999997], [47.63904, -122.32287], [35.799893, -78.72725], [40.014868, -75.304899], [38.935471, -94.704262], [34.030956, -118.030983], [34.027167, -118.459094], [44.8747, -93.06457], [34.138794, -80.756513], [42.1749, -122.658975], [34.071017, -118.049415], [38.644652, -121.385104], [35.198652, -80.829712], [38.80209, -119.29812], [33.284343, -80.562625], [33.339959, -80.570411], [38.814357, -77.13116600000002], [40.029183, -122.116212], [33.572759999999995, -117.18098], [34.259611, -118.438312], [38.49299, -121.44257], [29.94181, -90.07336], [47.624819, -122.32869], [25.78325, -80.34102], [32.778459999999995, -117.115771], [29.953905, -90.105438], [36.78924, -121.66758], [40.013955, -75.722848], [33.972159000000005, -118.168027], [35.362517, -118.932037], [34.077690000000004, -118.283454], [43.21102, -123.24694], [40.166951, -75.264462], [38.110958, -120.458798], [37.66557, -122.1179], [35.249498, -80.969527], [33.677108000000004, -117.88184], [34.036589, -118.375352], [40.645847, -111.808349], [34.02548, -118.29153], [37.973472, -122.301916], [43.991551, -95.983812], [33.69381, -84.5002], [39.794483, -104.919972], [39.609604, -119.219973], [37.575983, -77.462737], [34.028453000000006, -117.833718], [25.688161, -80.33259699999998], [35.908, -77.38094699999998], [30.31711, -81.73409000000002], [25.702474, -80.33150699999999], [32.83428, -96.60962], [36.808308, -119.785426], [25.92474, -80.29673000000003], [32.83752, -83.64864], [38.04285, -78.72161], [34.055640000000004, -118.19666], [38.87453, -77.22688000000002], [38.786037, -120.00476], [30.481308, -87.228953], [43.739604, -121.467142], [38.47506, -79.69901], [25.494624, -80.417999], [44.889514, -93.349795], [41.32735, -73.68585999999998], [26.227208, -80.183318], [26.204796, -80.142797], [36.679761, -82.037594], [33.685551000000004, -84.06535500000003], [37.083855, -120.230163], [33.766683, -117.923823], [40.426222, -77.010587], [34.194140000000004, -118.18228], [33.98495, -118.072375], [36.047325, -118.93725], [34.158825, -119.001822], [37.54887, -122.2918], [34.049561, -118.213986], [34.06743, -117.5799], [34.0612, -118.1696], [41.289421, -122.308784], [41.720935, -91.132589], [29.654017, -82.495122], [40.853732, -73.96695799999998], [32.65905, -117.075999], [43.16059, -77.638853], [47.57693, -122.31978], [39.78414, -105.10976], [29.718757, -95.313613], [25.849897, -80.20765], [46.704389, -92.293247], [38.672408, -77.244469], [35.768705, -78.632851], [44.096984, -123.110397], [44.69428, -93.29036], [34.083114, -118.228112], [40.138266, -76.100116], [25.633159, -80.385014], [25.934812, -80.29355799999998], [33.766090000000005, -84.49851], [28.214306, -82.265918], [45.02081, -93.34805], [40.416909, -74.206928], [34.0689, -117.36489], [35.238207, -118.824466], [33.549695, -79.02025], [33.796143, -117.877618], [38.883918, -104.95134], [37.354207, -121.866009], [25.88234, -80.22668399999998], [32.797544, -96.68613], [38.811317, -77.050155], [33.400157, -111.906292], [28.472748, -81.38045100000002], [40.785848, -73.446697], [37.358134, -77.404302], [25.796824, -80.323791], [35.85882700000001, -78.706591], [37.29798, -121.8113], [38.528678, -121.26328999999998], [37.53584, -122.07437], [25.728558, -80.43160300000002], [29.733119, -95.476568], [28.276298, -81.598336], [45.544032, -122.55911], [37.632418, -122.402968], [39.050799, -77.618989], [38.857121, -76.852892], [39.492029, -105.345474], [35.195165, -80.877726], [41.081752, -123.693532], [34.746608, -80.427139], [35.278782, -80.501817], [46.53011400000001, -92.384623], [33.703643, -117.777151], [33.405099, -117.598009], [32.729836, -97.298346], [25.776347, -80.16143000000002], [28.3571, -80.68351], [30.463085, -97.979684], [37.15385, -121.653152], [40.209846, -120.420018], [41.06786, -81.5742], [33.88192, -117.26796000000002], [33.538559, -117.173475], [28.294722, -82.146365], [34.355041, -119.308226], [35.60041, -97.62072], [26.542156, -81.87131], [38.053673, -78.919124], [42.43983, -83.21961], [33.97862, -117.702273], [40.85601, -73.971816], [33.908003, -84.23163000000002], [34.102671, -117.29981399999998], [34.068845, -117.365955], [38.16165, -78.997848], [44.312099, -93.967062], [35.817941, -86.9992], [39.00649600000001, -77.070325], [36.937499, -119.90318700000002], [39.66775, -77.02060999999998], [43.005605, -77.43396800000002], [37.473991, -119.638465], [25.78299, -80.32083], [35.004349, -85.331879], [39.352566, -122.194672], [27.44618, -82.50551999999998], [38.718941, -121.39511], [47.777628, -122.327991], [34.660213, -118.150183], [34.167874, -118.496999], [34.077713, -117.396468], [25.684807, -80.430801], [34.076168, -117.488795], [38.39376, -107.414417], [40.39152, -111.83502], [29.7843, -95.56055], [32.824406, -96.919697], [38.333991, -77.497676], [25.787841, -80.20990400000002], [32.766337, -96.738392], [38.565674, -78.74119300000002], [25.626145, -80.41645], [34.071647, -118.108229], [26.212287, -81.800549], [34.005413, -118.413277], [41.646268, -93.575834], [33.445225, -81.284912], [41.238566, -122.264453], [35.92849000000001, -84.03622], [37.664544, -77.63565600000003], [35.89162899999999, -78.680137], [37.701861, -121.903409], [41.531511, -93.518925], [32.917743, -96.745183], [38.635465, -121.224493], [44.949494, -92.998661], [32.25039, -110.9269], [28.191658, -82.465857], [32.717757, -117.087114], [40.976997, -80.132764], [33.228865, -111.927402], [40.755664, -122.025623], [38.64347, -90.44904], [25.774855, -80.35373299999998], [37.84422, -81.232835], [34.821213, -82.28299999999999], [32.94895, -96.82331], [41.117542, -73.38335500000002], [33.812185, -118.287467], [26.110607, -80.218582], [33.465546, -111.981593], [39.09871, -94.66906], [34.963179, -81.144254], [38.024043, -120.593003], [26.06189, -80.163965], [33.429219, -112.082377], [42.35176, -88.00369], [38.587342, -121.503714], [34.168966, -118.643106], [39.80482, -77.707337], [30.439740000000004, -91.007449], [25.663919, -80.37910500000002], [34.185320000000004, -118.3185], [44.05423, -123.217585], [34.036282, -118.154535], [33.93931, -117.20846], [38.97968, -110.22942], [38.23416, -85.75091], [25.825745, -80.240957], [32.764191, -117.127894], [34.029521, -118.402852], [44.406087, -122.282511], [29.753333, -95.417819], [39.121279, -76.99044599999998], [41.17683, -112.00443], [28.512987, -81.37544], [36.436047, -121.919188], [29.86778, -95.40685], [28.425082, -80.82022099999998], [37.699725, -121.786117], [25.686658, -80.360156], [35.284291, -80.775712], [44.86018, -93.1291], [35.296438, -120.630417], [44.4335, -88.10776], [33.198956, -80.603524], [40.38825, -74.56909], [42.36872, -88.16941], [45.33048, -120.768724], [33.726448, -80.929339], [35.743801, -78.54098499999998], [40.91477800000001, -124.066332], [42.964421, -123.809081], [32.697983, -86.519769], [35.801149, -78.68379200000003], [38.676308, -121.364068], [38.814933, -76.06013399999998], [37.440344, -119.648183], [27.864578, -82.702063], [33.746628, -118.006946], [44.984422, -93.348987], [33.268256, -117.436459], [44.94881, -92.85602], [44.808507, -120.933447], [25.908606, -80.184608], [34.652835, -120.182622], [33.68325, -117.87605], [36.800483, -121.78333899999998], [40.56502, -75.49054], [38.652912, -90.194109], [36.666061, -121.814789], [47.589239, -122.25503799999998], [39.63965, -104.91083], [37.69281, -122.08969], [47.9791, -122.191], [33.92934, -118.239036], [33.945512, -118.228371], [33.655198, -112.00026], [38.709117, -77.199457], [39.03039, -76.85348], [40.978631, -80.267659], [39.81100900000001, -94.802538], [37.463096, -122.145202], [25.90498, -80.32467], [42.97402, -73.97642900000002], [34.157642, -118.453141], [45.914686, -112.288523], [25.714585, -80.413965], [39.408441, -76.783586], [45.13484, -95.00336], [36.333707, -121.212319], [34.259033, -82.57386], [33.919175, -81.452011], [40.315436, -78.32289499999997], [42.39726, -83.43128], [37.250411, -93.307867], [33.787833, -117.831133], [37.40761, -122.19087], [32.94267, -96.9036], [34.441479, -119.803107], [41.64548, -72.861328], [41.88800000000001, -88.03413], [32.83716, -97.00339], [37.47638, -122.2216], [34.046244, -118.20652], [30.253114, -97.614356], [25.754444, -80.40743], [45.663009, -110.839658], [37.266845, -76.652559], [37.630843, -120.997678], [41.82599, -88.20221], [28.452845, -81.330976], [41.270975, -122.280401], [45.542336, -122.508006], [39.781333, -105.133999], [40.577229, -75.793726], [37.63491, -122.0869], [32.7691, -96.823051], [43.025013, -89.253555], [25.781938, -80.336786], [37.695786, -122.122939], [33.953151, -118.36927], [34.104778, -118.251807], [41.443163, -74.363389], [33.845721000000005, -117.958986], [46.471427, -122.883893], [29.999165, -90.059072], [37.94867, -122.32597], [38.012641, -122.002004], [33.474940000000004, -112.11297], [34.670428, -112.21051], [33.849381, -117.875243], [35.61040300000001, -118.482531], [41.197456, -73.121023], [42.980715, -78.91019200000002], [40.727254, -74.019849], [44.431156, -121.877159], [25.66214, -80.3886], [28.760157, -81.264549], [33.863938, -118.285151], [40.094314, -75.126756], [39.565718, -106.237265], [40.253113, -75.264884], [40.995302, -74.30921], [42.996809000000006, -83.705965], [35.077712, -82.55429699999998], [42.211278, -87.993494], [44.994324, -92.960203], [46.11019, -123.20976], [39.97648, -83.12517], [33.888848, -118.189112], [37.80651500000001, -122.237827], [33.46585, -112.20337], [45.41797, -122.424515], [38.841833, -77.083947], [34.108740000000004, -118.18508], [32.930045, -97.316396], [33.85907, -118.28964], [38.917284, -76.974953], [36.357334, -119.636928], [41.710978, -122.584065], [32.782634, -96.812585], [25.925341, -80.153943], [27.871981, -82.73337], [35.205575, -80.759028], [28.605924, -81.30754499999998], [31.210617, -89.261312], [41.10967, -73.40308], [38.155185, -121.676428], [34.02049, -118.19411], [25.537164, -80.37207], [29.59696, -95.39777], [36.161681, -86.793263], [34.699402, -82.17163000000002], [32.667641, -97.31823], [29.698324, -95.500603], [34.350224, -118.504081], [40.79441, -73.93111999999998], [41.597133, -87.68119], [40.439425, -122.40757], [30.31711, -81.73409000000002], [38.791468, -78.36169699999998], [37.476764, -122.211517], [31.48615, -111.003852], [25.876502, -80.228453], [38.231597, -122.111732], [37.604332, -122.38255], [44.38092, -123.06146], [25.770844, -80.412224], [40.760232, -111.93904], [45.39571, -95.58021], [34.030269, -117.662705], [34.70597, -82.676627], [33.771553999999995, -117.251314], [32.67365, -97.198094], [41.545512, -76.74250699999997], [38.88085, -94.792065], [33.748971000000004, -117.180531], [36.935942, -76.265339], [25.698611, -80.38217900000002], [34.016858, -80.94912099999998], [42.71495, -71.44991], [28.806787, -81.339635], [34.029128, -118.446342], [40.019642, -75.143963], [30.454926, -91.123113], [38.061521, -77.518811], [32.73628, -97.35498], [34.122873, -80.874701], [32.296419, -81.092393], [26.014923, -80.167252], [40.23943, -74.74011], [37.448353, -77.583985], [35.225313, -80.864678], [36.940273, -77.731436], [25.836976, -80.32230200000002], [34.070946, -118.145631], [39.78759, -75.04874000000002], [36.983381, -121.954518], [33.452597999999995, -112.737505], [39.77577, -104.8654], [37.814351, -122.250859], [39.93561500000001, -75.060056], [36.819251, -76.194638], [44.870169, -93.39663], [45.482737, -123.715695], [25.970592, -80.205969], [39.950742, -75.12375], [35.000453, -80.869976], [35.3091, -80.75419000000002], [36.147841, -86.693061], [26.597573, -81.71279100000002], [36.017912, -86.62428], [34.649516, -110.344372], [42.039547, -75.790684], [44.397243, -122.480962], [34.018849, -118.192258], [30.116640000000004, -95.4396], [40.42315, -74.19341800000002], [40.550794, -122.387702], [34.145454, -80.747033], [38.979781, -76.17002600000002], [30.378516, -97.680162], [41.98899, -87.86478000000002], [39.34143, -120.317472], [34.583872, -82.620929], [35.89978499999999, -78.87124], [27.982272, -82.45359599999998], [37.403243, -122.046907], [25.913195, -80.40128299999998], [40.658445, -75.39323], [35.859375, -78.334068], [42.407602, -82.950981], [40.16697, -74.646617], [45.586813, -94.365938], [38.82436, -104.83603], [27.447751, -82.574066], [30.45409, -88.885756], [38.593532, -121.400943], [34.233785, -117.422084], [41.953328000000006, -72.32481], [35.072468, -90.013657], [25.76087, -80.406981], [39.39557, -76.6272], [36.10776, -86.72012], [36.192773, -86.687147], [28.726623, -81.601067], [39.39882, -76.55215], [30.533163, -91.08688], [42.335611, -83.129221], [33.974726000000004, -118.237251], [38.014085, -122.663735], [33.04017, -80.13895], [40.521857, -121.681297], [47.653712, -117.333968], [36.964618, -76.413246], [42.34398, -123.567277], [35.0114, -81.21654000000002], [40.825727, -73.93109], [40.094165, -76.285449], [37.774399, -121.322244], [29.211391, -82.18439599999998], [30.631764, -87.120449], [44.97515, -93.2871], [35.788753, -78.583366], [35.86402000000001, -86.453787], [37.837601, -122.48301399999998], [39.009905, -76.90171099999998], [36.753886, -119.827519], [37.75502, -121.142581], [35.014441999999995, -87.98351], [38.989585, -76.526478], [33.578376, -81.767033], [34.118075, -117.973327], [26.281238, -80.12501800000003], [40.690366, -74.102965], [41.536431, -72.796678], [34.114168, -84.735134], [41.24872, -74.036957], [33.929872, -84.142076], [37.73226, -122.43197], [40.771132, -112.05545], [37.432868, -120.779282], [40.03041500000001, -79.07583100000002], [30.2968, -81.77094], [25.736216, -80.262152], [41.108533, -78.537552], [40.75933, -74.082173], [25.731925, -80.317114], [25.748172, -80.299184], [34.117709000000005, -117.518659], [45.09543, -93.18835], [39.945092, -75.190764], [40.331433, -74.638109], [39.496217, -85.875452], [38.008414, -122.275611], [34.138001, -118.726336], [29.72175, -95.46038], [38.865541, -77.05350200000002], [33.848215, -117.27893799999998], [33.858479, -118.092275], [30.27479000000001, -97.744148], [27.71257, -82.33459], [34.320591, -92.932244], [37.533326, -77.430062], [25.92058, -80.21030999999998], [34.883804999999995, -82.329739], [41.20243, -95.94811], [38.656328, -121.576606], [44.96544, -93.26509], [36.808352, -119.803942], [41.4258, -81.75658], [44.41444600000001, -122.032802], [40.68066, -74.00313], [33.51446, -117.575023], [44.60370800000001, -122.93466200000002], [40.829813, -73.93490600000001], [34.489826, -118.61916399999998], [40.760425, -73.753699], [34.11437, -118.17376000000002], [34.201481, -79.278315], [34.426424, -117.551994], [33.502483000000005, -117.65833700000002], [37.42122, -121.91483999999998], [38.770899, -90.253434], [41.264346, -122.275361], [33.07888, -97.02466], [47.571398, -122.330976], [43.633811, -116.355745], [38.637658, -77.350429], [34.9021, -82.35492099999998], [28.232985, -82.357152], [36.745702, -119.821326], [33.847833, -117.855511], [37.52782, -121.99832], [37.56055, -121.90874], [34.155559999999994, -118.43483799999998], [35.079574, -85.24359399999999], [44.915016, -93.350304], [33.908054, -117.45368], [43.649293, -123.837364], [40.42717, -79.891446], [33.55721, -117.677722], [39.7623, -121.858452], [37.901241, -82.041852], [40.33037, -122.281147], [34.01887, -117.72086000000002], [30.437646, -84.34950500000002], [34.016422, -118.495158], [26.622687, -81.85958199999997], [33.395825, -84.619434], [42.38346, -83.066], [45.036467, -93.005167], [33.974729, -118.232508], [35.960306, -82.555704], [26.16219, -80.16230999999998], [30.21163, -81.61748], [33.84818, -84.36771999999998], [31.6689, -83.61021600000002], [25.76701, -80.295113], [45.759644, -118.563566], [28.237107, -82.35759499999998], [40.010129, -74.190437], [36.965221, -76.288228], [30.404023, -91.182012], [32.881153999999995, -96.899684], [38.139387, -122.220007], [39.689687, -84.229302], [32.28313, -110.94383], [37.337555, -121.849583], [36.083965, -86.70643100000002], [37.503818, -121.962855], [37.595986, -122.058843], [38.602265, -75.24868599999998], [38.6104, -121.383063], [33.426944, -112.031611], [33.94155, -81.079575], [40.64406, -111.9294], [38.379398, -122.699811], [33.99641, -117.3648], [40.167401, -75.103796], [32.769870000000004, -117.16165], [32.768382, -96.665605], [41.098748, -74.03745500000002], [41.50111, -81.46309000000002], [25.83712, -80.32212], [43.61194, -116.393542], [25.482316, -80.436409], [34.17208, -118.46776], [38.535836, -121.459579], [39.381699, -76.738087], [35.44875, -119.465965], [35.59083, -118.5227], [36.01959, -95.886343], [37.41315, -121.98333999999998], [33.565839000000004, -113.33396299999998], [41.98235, -87.81421], [25.579426, -80.50676], [39.315658, -76.74453299999998], [28.486995, -81.41193100000002], [30.359254, -97.649043], [40.71643, -73.97559], [34.154405, -118.384235], [47.745219, -122.18694], [37.957001, -121.240364], [39.95763, -76.74852], [25.897397, -80.259652], [38.850473, -77.342378], [34.024390000000004, -118.27646], [26.137, -80.21696999999998], [42.461479, -121.870636], [40.831777, -73.950652], [40.792089, -73.82326], [28.04076, -81.921764], [27.44874, -82.432711], [45.6407, -118.687995], [35.44175, -119.27901], [39.980958, -76.694917], [40.83591, -73.873968], [30.319986, -97.447811], [35.71779, -78.58378], [45.053651, -121.512143], [35.26054699999999, -80.795212], [28.562244, -81.145392], [37.992491, -104.764546], [29.135598, -80.961685], [35.834529, -78.325948], [34.03051, -118.43838999999998], [44.87296, -122.86171000000002], [39.764059, -105.59593999999998], [43.163276, -83.703836], [34.030522, -81.20404], [30.341783000000003, -97.521451], [35.842621, -78.68180100000002], [35.149257, -80.830539], [30.313061, -97.664979], [38.399827, -81.784474], [38.394438, -82.53229], [36.859807, -79.478585], [40.12246, -75.217623], [40.588678, -80.099183], [34.217427, -82.035023], [41.90033, -87.66023], [45.069168, -93.279901], [47.18853, -95.04436], [34.120978, -117.877493], [38.37855, -75.067859], [39.52299, -119.74008], [29.951641, -90.125258], [38.03897, -78.886224], [37.617807, -120.987877], [43.21518, -77.45342], [29.941745, -90.07273], [45.006244, -93.45742], [33.926041, -118.023708], [35.23059, -80.84698], [32.744987, -117.156331], [38.8001, -77.16614], [38.481607, -121.408674], [33.614394, -117.70704], [38.575614, -121.413884], [42.92844, -78.76616999999997], [36.967186, -119.523378], [43.63798, -95.24632], [33.865989, -117.997208], [43.12820900000001, -77.632573], [37.304487, -121.878779], [40.253745, -76.82069200000002], [41.85994, -87.64423000000002], [28.027221, -82.163679], [34.025743, -118.240186], [25.732244, -80.367769], [41.75761, -72.70055], [28.121112, -82.739879], [32.878934, -96.680832], [34.133008000000004, -117.194477], [33.43476, -111.88171], [39.75624000000001, -86.1941], [34.11972, -117.75781], [29.89637, -95.20318], [30.31156, -97.70923], [33.673085, -111.983294], [28.450312, -81.408456], [33.327144, -117.159243], [40.600799, -79.75745699999997], [29.9227, -91.73342], [37.757679, -75.620368], [44.50028, -93.291376], [35.607314, -78.564235], [41.25968, -95.95808], [33.975944, -118.167664], [34.224482, -118.473268], [34.031220000000005, -118.274582], [38.763492, -76.99408199999998], [33.819734000000004, -117.408169], [39.635893, -119.941874], [27.422324, -82.57552], [34.145790000000005, -118.026644], [26.634685, -81.80313100000002], [32.941520000000004, -117.21771], [33.387464, -117.238968], [25.85039, -80.322653], [35.28767, -82.40136], [41.556975, -87.31071], [32.7671, -96.83693], [38.246791, -120.94596], [41.16395, -73.35834], [33.964519, -117.549009], [37.961106, -122.281464], [47.84999000000001, -122.27441], [38.842728, -77.441806], [36.762829, -121.748606], [36.22662800000001, -121.171919], [32.837432, -96.973795], [33.772986, -118.039491], [45.428957, -122.775336], [29.67471, -95.57727], [38.53841, -121.51331], [34.208317, -118.585225], [41.724351, -72.66809599999998], [32.214156, -110.969856], [42.25764, -88.15228], [29.86582000000001, -95.485022], [37.332529, -120.569285], [25.957978, -80.229302], [47.56106, -122.379498], [34.102397, -118.196042], [43.09868, -71.47544], [34.029546, -118.067458], [27.857878000000003, -82.326735], [34.040552000000005, -118.183454], [38.82579000000001, -77.30138000000002], [25.932329, -80.293591], [26.278363, -80.297216], [35.121024, -120.58493], [35.151543, -80.848781], [34.966231, -80.983389], [33.87419000000001, -118.06189], [29.39842, -82.115736], [43.13097, -123.36449], [33.809994, -118.15898], [29.77047, -95.26495], [38.560137, -121.367418], [41.37611, -85.07656899999998], [46.09999000000001, -122.996655], [39.040663, -94.675172], [25.670461, -80.425503], [33.235098, -87.413389], [35.858539, -78.602149], [38.370617, -122.54216], [42.79975, -85.07451999999998], [39.015487, -77.005308], [33.925515999999995, -79.88731], [37.114289, -76.489793], [42.96431, -85.67866], [40.577563, -75.80312099999998], [25.972333, -80.22959200000003], [43.674419, -116.354155], [39.17274000000001, -94.59489], [39.795624, -86.165009], [40.741931, -85.41206899999997], [34.878559, -82.209886], [40.79815, -77.659674], [34.40436, -119.530697], [27.269240000000003, -82.498888], [33.459423, -112.007601], [37.872199, -121.277543], [39.251071, -76.680203], [37.75940900000001, -122.406015], [36.401599, -121.580768], [29.021593, -82.156225], [30.338181, -97.710887], [39.982345, -76.871593], [40.082449, -82.98775], [37.837989, -122.262187], [29.79647000000001, -95.56363], [38.683143, -121.33581399999998], [35.80292, -80.8997], [38.722507, -120.830265], [43.703709, -91.988557], [36.191922, -86.782733], [40.41092, -111.47821], [38.687652, -121.351165], [25.810672, -80.181602], [32.903512, -96.723051], [45.507406, -122.709648], [40.674564, -111.899986], [35.246661, -80.96206], [33.999208, -117.371376], [38.642071, -121.380592], [33.705065000000005, -78.96743000000002], [34.131536, -118.054582], [34.864377000000005, -118.167137], [41.203697, -111.948629], [42.759411, -121.837718], [40.031937, -123.779321], [41.99345, -88.16271], [40.98833, -73.66665], [34.817959, -82.418461], [37.024331, -120.557295], [33.280903, -81.253606], [40.90261, -73.87873], [31.801763, -82.41489399999998], [35.012438, -81.266235], [37.695761, -122.115022], [33.073085, -96.687422], [40.710401, -73.986574], [27.609657, -82.647826], [38.89075, -77.422184], [40.893929, -74.132064], [38.932875, -78.477262], [28.039590000000004, -82.7381], [37.80006, -122.278623], [34.318283, -119.1085], [38.521403, -77.833575], [33.99902, -117.37092], [25.858203, -80.183835], [26.22525, -80.13627], [40.097946, -75.197792], [29.98040300000001, -90.073153], [30.158572, -81.356342], [30.417584, -91.090642], [28.853095, -82.38624200000002], [34.159541, -118.46124], [39.9467, -82.22232], [41.437595, -72.108896], [30.551923, -91.197567], [38.266125, -122.113208], [41.42184, -81.77658000000002], [28.447743, -81.473913], [30.615188, -86.960359], [38.939217, -78.132214], [39.9838, -76.7222], [35.188229, -80.878348], [28.748506, -81.365894], [28.523643, -81.734413], [39.421061, -74.49811600000002], [25.88111, -80.32339], [33.970799, -118.24767], [32.756055, -96.809811], [25.726031, -80.451613], [34.238669, -117.259717], [41.931049, -87.91970400000002], [26.12172, -80.17447299999998], [25.98188, -80.229954], [40.75293, -74.11869], [25.769711, -80.335312], [40.869335, -74.056696], [37.949002, -121.777537], [37.689835, -122.062288], [36.794217, -119.706695], [44.32039, -93.299823], [33.512881, -86.79359000000002], [25.547594, -80.371525], [26.80948, -80.13124], [33.770292, -117.913525], [40.10603, -78.81667900000002], [25.807569, -80.313137], [38.32442, -121.32699], [32.67951, -96.82267], [25.68608900000001, -80.395911], [40.658852, -74.00283], [34.115844, -117.52091], [37.90192, -121.25481299999998], [39.78483, -111.837784], [36.960725, -76.266201], [39.067012, -94.507636], [28.690356, -81.546911], [39.596786, -84.228971], [37.7014, -121.87685], [44.986127, -93.28857], [37.559929, -77.45361], [34.031857, -118.424152], [35.834011, -78.556054], [44.10235, -123.17136], [47.84466, -122.25858999999998], [39.05861, -105.85265], [34.00416, -117.35017], [41.758332, -72.700203], [37.89968, -122.51585], [34.114745, -80.888674], [34.247806, -118.425826], [33.484970000000004, -111.88867], [34.014886, -117.338368], [46.916608, -113.42938999999998], [37.916992, -77.458484], [34.037999, -118.276449], [28.451694, -81.470821], [26.081889, -80.16810600000002], [33.331222, -117.236272], [40.738345, -73.796423], [28.515043, -81.376343], [27.93845300000001, -82.73993399999998], [36.430233, -78.53511400000002], [33.994705, -87.794566], [36.619638, -119.84476399999998], [37.739394, -121.215373], [33.921629, -84.189916], [42.15494, -88.027884], [37.6097, -122.39068], [25.900718, -80.17783100000003], [33.856306, -117.92436200000002], [41.988954, -88.146789], [35.10277, -80.98872], [27.06208, -82.4163], [30.44262800000001, -91.138463], [44.853099, -93.298023], [40.854561, -73.969438], [33.386422, -111.791057], [37.40205, -122.03163], [41.838602, -87.993629], [33.862021, -118.041542], [35.73142199999999, -78.626476], [42.201439, -76.318096], [37.552988, -77.48010699999998], [33.954726, -117.305097], [43.584641, -93.357664], [47.592534, -122.308974], [38.595244, -121.41524], [30.423001, -91.139099], [45.54577000000001, -122.557799], [34.07233, -118.08066], [43.035434, -83.693748], [33.84636, -117.862], [33.986345, -117.346376], [28.449055, -81.470923], [33.595991999999995, -117.116901], [33.851143, -118.277421], [37.120322, -121.975971], [39.00268300000001, -76.89522], [42.27681, -71.04932], [33.882006, -118.142641], [38.895675, -77.03196], [36.038606, -86.78614499999998], [40.483363, -111.897959], [28.041325, -82.738156], [36.240243, -119.695947], [33.8966, -118.286073], [41.98364, -88.00419000000002], [39.11046, -84.50148], [44.102567, -123.17153], [39.534291, -77.606037], [36.950393, -121.38324], [33.368819, -110.737497], [45.002884, -123.895345], [43.12036, -78.99754], [33.940681, -117.267648], [29.77849, -95.479721], [41.646086, -122.535562], [25.898221, -80.212747], [37.196057, -80.269551], [38.451841, -121.371635], [33.12852, -117.11288], [30.441524, -91.220561], [42.97874, -77.23823], [43.224612, -123.360111], [34.034040000000005, -118.02698999999998], [33.873049, -87.440797], [42.941482, -85.666229], [37.551682, -77.444599], [39.118183, -121.636032], [30.17248, -83.58646], [38.528465, -121.469389], [43.511709, -123.31594], [34.00490300000001, -117.930245], [39.17964, -84.39721999999998], [33.382008, -117.241643], [28.036388, -82.503439], [35.253279, -118.91445], [30.507157, -87.161852], [40.868335, -124.134982], [42.205551, -121.789359], [35.155631, -80.79401700000003], [45.56843, -122.16368], [40.462838, -122.330216], [45.174371, -117.977971], [34.096445, -118.812523], [32.965915, -80.010139], [42.834276, -71.693228], [38.246014, -122.438805], [37.833212, -122.294665], [46.858993, -122.973203], [32.25058, -110.8579], [37.351111, -121.862949], [28.43598, -81.40658], [33.574670000000005, -84.27615], [28.084478000000004, -82.739224], [34.887237, -82.184086], [25.785586, -80.214288], [25.81225, -80.313429], [34.00444, -118.4122], [25.831073, -80.242384], [35.026683, -92.644012], [30.560504, -97.69265], [33.5466, -112.27104], [36.924158, -76.31658], [40.122556, -75.33299], [34.152406, -118.094961], [38.265392, -122.461651], [41.120694, -73.326911], [41.58105, -70.59003], [33.139887, -117.140309], [29.70212, -95.29549], [47.62329, -122.35672], [33.875911, -118.168782], [30.30878400000001, -81.770464], [34.128182, -80.902828], [25.82284, -80.32151999999998], [30.43015, -81.57575], [37.293565, -121.872381], [33.68662, -117.766], [44.97673, -93.3433], [41.10068, -73.59437], [26.427075, -81.81088100000002], [39.235213, -106.023849], [40.666203, -74.285493], [27.267942, -82.464526], [35.39197, -97.49846], [39.027285, -94.785989], [40.24838, -75.29519], [37.43782, -119.976345], [32.721270000000004, -117.079253], [38.805289, -77.21312900000002], [34.469664, -119.775216], [38.89642, -76.71851], [37.697514, -121.069217], [33.778893, -117.876784], [34.592949, -80.91305600000003], [32.83978, -97.30954], [40.663726, -79.688062], [33.507472, -80.85074], [33.88592, -84.45786], [35.200418, -80.764094], [39.93361, -82.84258], [43.981737, -121.458674], [28.37978, -81.504912], [25.729231, -80.415252], [40.205908, -75.22448], [25.909736, -80.293307], [37.568242, -122.043335], [29.92519, -95.402699], [32.757907, -96.918157], [37.349893, -121.861825], [25.760878, -80.419588], [36.07402, -86.92331], [42.4834, -83.44919], [39.077479, -121.530629], [41.64686, -83.58169000000002], [45.55981, -122.17327], [30.404827, -81.75361600000002], [35.375898, -119.145455], [42.56244, -123.37173], [39.487427, -86.014891], [38.87592, -90.908], [42.55344, -82.86615], [38.634633, -121.269624], [33.045332, -117.286169], [33.58017, -117.6716], [37.68115, -77.53492], [36.676228, -121.701744], [38.71843300000001, -76.878759], [39.534516, -77.230852], [47.752708, -122.330371], [40.724342, -73.93610699999998], [34.04468, -118.184655], [44.955258, -93.075359], [40.516986, -74.37075899999998], [27.99341, -82.45359], [43.60539, -123.22532], [25.760879, -80.418491], [33.314741, -111.894217], [34.055503, -118.198417], [36.714021, -119.822486], [39.63493, -78.833292], [44.42363, -92.240075], [39.044953, -77.064786], [37.548837, -120.901912], [37.52893, -77.35814], [40.374273, -111.812442], [29.797826, -95.387974], [32.817840000000004, -83.65595], [25.878498, -80.323596], [29.409209000000004, -98.509029], [45.62175300000001, -123.078968], [33.870453000000005, -118.056019], [29.863049, -95.265483], [39.09421500000001, -94.571825], [40.73493, -73.86103], [34.063973, -80.21771700000002], [33.895951000000004, -117.49775], [35.122784, -78.750495], [33.945452, -118.31016], [47.46862, -122.20921], [32.238489, -107.414907], [42.32871, -83.15735], [38.78578, -121.282876], [34.09214, -117.30131000000002], [33.68053, -117.170766], [39.312948, -84.432674], [34.13637, -118.36072], [30.312491, -81.770521], [33.8948, -117.50178], [25.988878, -80.16583299999998], [34.025634000000004, -118.23659], [38.601169, -121.505447], [34.085505, -80.936251], [35.024736, -118.16598], [45.450124, -122.658702], [33.148058, -117.195709], [33.889034, -84.255427], [35.291207, -112.821362], [33.804439, -118.20751], [28.521645, -81.310278], [25.767198, -80.322985], [39.375396, -123.684715], [47.58549, -122.30293600000002], [42.968215, -85.6784], [47.477792, -92.902954], [39.33088, -76.63492], [32.72598, -117.07331], [39.803787, -86.031886], [30.444914, -87.24651899999998], [30.359655, -81.55390600000001], [40.078996, -76.296396], [34.019295, -118.157631], [25.959157, -80.169381], [32.87531, -96.898132], [30.52968, -87.208322], [37.71759, -121.70116000000002], [42.49079, -83.03765], [41.96883, -88.0107], [44.379601, -93.431046], [40.85911, -111.90442], [35.77256699999999, -78.50704499999998], [44.89873, -93.134053], [33.193956, -87.24445899999998], [45.24736, -93.02597], [39.81215200000001, -86.179698], [30.434834, -91.177198], [34.79884000000001, -89.49521800000002], [35.26484, -80.87575], [33.46213, -112.05922], [43.145445, -77.555311], [37.972959, -77.492452], [40.04781, -75.78549], [41.567283, -87.327031], [28.174835, -82.740386], [40.55789, -80.20474], [45.99652, -93.66212], [35.784355, -78.545585], [42.17654, -123.64513999999998], [43.1792, -77.65961999999998], [30.255933, -97.592783], [34.827883, -81.923576], [37.48181500000001, -120.940185], [30.26461, -81.76541], [27.943577, -82.801978], [33.890806, -118.361313], [33.846666, -118.193807], [33.941026, -118.279677], [36.245495, -84.178158], [40.741285, -73.842941], [32.794074, -96.725202], [40.696784, -73.962896], [32.83396, -117.11928], [30.262701, -97.621333], [37.376978, -121.832793], [37.31029, -120.512278], [33.898516, -81.559433], [28.447483, -81.47086800000002], [34.06599, -117.47832], [25.885641, -80.13317099999998], [36.1817, -86.79969], [45.26363, -93.5557], [35.891892, -119.250859], [25.943584, -80.271202], [40.675381, -74.000709], [37.96494000000001, -122.32491], [39.847832, -75.93568499999998], [40.545474, -120.626038], [44.804508, -93.190303], [25.671944, -80.384137], [36.24485, -86.63786], [40.261457, -121.338504], [40.33635, -74.63219000000002], [27.937662, -82.290255], [28.535290000000003, -81.39183], [37.042711, -76.363574], [33.093298, -80.031162], [32.80039, -96.79298], [36.952609, -120.02854], [34.409533, -83.190053], [38.551048, -121.421683], [41.89027, -87.959316], [34.00634, -118.06156], [39.918456, -75.262615], [29.723341, -95.391961], [38.482772, -122.753808], [39.8723, -75.08516999999998], [38.587797, -121.503941], [29.72131, -95.32648], [44.082716, -117.015756], [47.485152, -122.268508], [28.641639, -81.322319], [28.273789, -82.15600500000002], [33.89567, -84.25314], [34.561466, -117.969545], [33.927917, -118.25428], [34.759463000000004, -82.474363], [48.268203, -122.671963], [38.75387, -77.23901], [30.418235, -91.107162], [44.782192, -93.469532], [33.982358000000005, -118.286454], [33.854809, -117.941826], [40.83476, -73.949763], [38.485161, -121.512426], [29.13158300000001, -82.02641], [39.725424, -105.024648], [35.771774, -78.653479], [34.068657, -117.798854], [33.466683, -112.169197], [38.595052, -90.32663], [32.305073, -95.292466], [26.462663, -80.174757], [45.85142000000001, -118.40489], [41.05981, -73.84049], [45.58047, -122.54358], [26.222238, -80.185174], [36.475403, -119.441502], [35.163849, -80.87602700000002], [32.829712, -117.118238], [33.774257, -118.077718], [35.545266, -84.569696], [39.670783, -75.67409599999998], [34.037151, -118.037569], [34.606660999999995, -120.10205], [34.071740000000005, -117.87696], [40.6972, -73.98183], [33.654582, -112.151913], [36.706624, -119.844479], [42.426052, -88.004046], [32.7424, -96.81808], [27.9999, -82.33556999999998], [38.963873, -121.104476], [41.30544, -72.9143], [37.543573, -122.020412], [37.990726, -122.12918700000002], [32.240356, -90.21611], [35.018484, -85.293228], [33.902786, -117.243597], [39.65997, -104.99873999999998], [39.832218, -75.157411], [34.020322, -118.192411], [47.62451, -122.34756000000002], [29.966728000000003, -90.039573], [41.116394, -74.11304100000002], [39.223055, -76.720479], [32.91978, -96.8523], [39.099215, -76.88933], [25.959157, -80.169381], [38.852719, -77.006328], [25.51443900000001, -80.412475], [39.762386, -121.736572], [33.719133, -117.188984], [26.092926, -80.226985], [35.901141, -78.65395699999998], [33.941178, -118.096711], [44.289589, -124.110571], [36.13342, -95.90458], [43.094529, -76.199362], [27.138277, -82.4582], [34.274499, -118.542807], [36.24746500000001, -86.641254], [33.881351, -117.577284], [47.182838, -103.223155], [27.70447, -82.14613], [38.939615, -76.855837], [37.483924, -81.077374], [30.46108, -91.10164], [35.760809, -119.579454], [28.418364, -81.40460300000002], [39.943707, -120.95488600000002], [33.868895, -117.755], [44.91566, -93.27464], [38.57443, -109.55077], [40.712488, -74.20079100000002], [38.828613, -122.56086299999998], [40.593587, -78.322587], [33.903811, -98.51497], [34.058983000000005, -118.231898], [38.159681, -121.685485], [41.81731, -71.3981], [31.399601, -110.961385], [46.778231, -92.106254], [35.26469, -80.923765], [44.7108, -93.03255], [34.169403, -79.843827], [42.684046, -84.501417], [34.007020000000004, -117.82629], [33.977097, -80.954915], [39.867539, -86.047064], [40.063512, -122.091145], [40.044557, -111.716025], [34.361699, -117.604332], [45.49845, -122.56555], [47.975, -122.19076], [33.673496, -117.886061], [25.59754, -80.382935], [43.608716, -96.389912], [30.32062100000001, -81.687046], [28.421394, -81.400216], [39.013605, -77.016622], [26.240319, -80.296915], [43.87713, -93.166004], [45.97562, -94.34003], [43.160628, -77.628685], [34.018982, -117.506724], [39.60842, -75.66436999999998], [25.755069, -80.33055999999998], [38.692381, -121.83718799999998], [25.769483, -80.33749399999998], [34.838099, -82.289124], [34.031584, -118.03047], [38.683143, -121.33581399999998], [34.068618, -118.216749], [43.211055, -77.687652], [36.90071, -76.235299], [37.764957, -121.410652], [47.376214, -94.863005], [26.13902, -81.716125], [37.33111, -119.65552], [45.54869, -122.67859], [40.690832, -73.57500999999998], [34.026042, -117.722615], [37.64271, -121.88707], [33.05196, -117.07278], [27.790697, -82.660663], [34.041188, -118.069124], [27.388804, -82.449182], [36.865912, -80.87162], [30.007208, -89.998768], [34.749487, -82.283016], [43.607284, -116.193294], [33.908881, -118.105163], [37.239544, -79.64431400000002], [33.876529, -118.088954], [25.898036, -80.34325600000003], [33.960712, -118.282704], [34.167433, -118.158138], [42.170994, -86.318962], [29.299966, -82.448555], [34.3384, -118.50737], [37.765912, -122.40523], [38.841869, -75.795642], [34.160045000000004, -118.225625], [34.857195000000004, -82.323272], [42.34458, -87.9446], [33.482927000000004, -80.757654], [32.250359, -110.98694], [38.956178, -94.527708], [32.33976, -90.16018], [33.99414, -117.90955], [39.02629, -106.24558], [25.748043, -80.303947], [45.6059, -122.68265], [38.5746, -121.381398], [34.042975, -118.217073], [37.874502, -122.306023], [32.822516, -97.449685], [25.880062, -80.357626], [36.768846, -76.260894], [34.117020000000004, -118.26915], [28.634025, -81.476221], [38.34382, -121.584853], [36.11868, -86.80108], [33.87719, -118.13385], [34.036911, -118.314143], [39.584201, -75.07257299999998], [28.536465000000003, -81.392062], [37.23915, -112.83237], [34.883720000000004, -82.19801], [39.530686, -76.182192], [26.545722, -81.78618], [38.625032, -77.28619], [33.897008, -118.193476], [38.798488, -77.168176], [29.84141, -95.262253], [25.782451, -80.222626], [39.95686, -75.14426999999998], [41.98044, -87.88053000000002], [34.127462, -118.07938], [35.175551, -120.697528], [41.222881, -96.023801], [35.680643, -118.408616], [33.805736, -118.14252], [46.79503, -100.794571], [39.301689, -120.918091], [40.855884, -76.811651], [31.739541, -106.324047], [30.265574, -97.695507], [41.654907, -122.115198], [39.78338, -105.00958], [33.87608, -118.12104], [35.79386599999999, -78.695371], [40.706971, -111.90363], [39.022199, -76.474115], [38.703388, -120.860003], [40.622326, -74.174735], [41.7733, -87.99395], [32.750687, -96.674133], [26.304140000000004, -80.16956], [34.755804, -82.532803], [28.83256, -81.3226], [26.516066, -81.96406], [39.09527, -121.550946], [32.857921999999995, -96.812323], [35.833913, -119.250212], [33.55239, -83.36246], [33.929394, -118.343332], [25.688161, -80.33259699999998], [35.58084, -82.51988], [38.978574, -123.064874], [33.181079, -117.335579], [41.33101, -73.09042], [41.547677, -72.783671], [25.886181, -80.209282], [34.006640000000004, -118.155511], [47.158223, -122.441285], [37.289851, -121.870866], [34.502449, -80.929641], [42.411173, -73.772739], [45.49062, -122.79212], [42.308643, -87.878101], [33.858844, -117.87653], [36.225861, -80.319017], [46.325837, -95.321599], [34.012676, -117.981078], [33.828293, -117.941476], [40.229868, -76.070394], [34.272841, -118.561868], [38.206059, -77.28513199999998], [41.90957, -88.03811], [38.643374, -77.287318], [33.970552000000005, -118.375228], [41.24615, -73.09743], [34.190729, -117.361074], [39.76455, -105.00165], [38.588943, -121.446448], [39.977381, -76.533732], [45.100569, -93.401156], [30.24993, -81.59151], [34.405846999999994, -119.54393], [39.391877, -77.14098299999998], [38.800979, -77.52493199999998], [35.310345, -80.714541], [47.54469, -122.37644], [36.619724, -119.592832], [37.243839, -93.134728], [36.10101, -115.14978], [35.189869, -80.875587], [37.669769, -77.488342], [32.861740000000005, -96.65757], [33.864678999999995, -117.453785], [35.077385, -89.968079], [27.083923, -82.4269], [41.8019, -112.31179], [37.824521, -121.992011], [33.935676, -118.048846], [44.922891, -119.69363], [41.72681, -71.4832], [38.411831, -122.716146], [34.154218, -117.344192], [40.032694, -74.968126], [35.01171, -81.9573], [36.226102, -119.2962], [34.52386, -118.112061], [38.30115, -122.70598], [47.30615, -122.249921], [36.772264, -119.743119], [34.273474, -118.471623], [33.011758, -80.02946800000002], [33.810244, -84.374554], [40.971141, -74.06635], [25.671986, -80.38261899999998], [40.596488, -78.33572099999998], [30.43347, -81.727648], [32.895196, -80.01897199999998], [32.760299, -97.241852], [25.78779, -80.209631], [35.016627, -82.01234000000002], [29.716721000000003, -81.59670799999998], [30.259551, -97.731617], [41.757563, -72.663327], [33.144441, -117.333429], [45.039442, -93.284832], [37.417619, -121.91358], [37.31793, -121.97919], [36.962792, -76.27172900000002], [41.687286, -83.69493100000003], [25.865389, -80.20853100000002], [35.251823, -118.914364], [42.378202, -83.217046], [25.696637, -80.382138], [27.98155, -82.46206], [40.130084, -75.374126], [34.014882, -117.339818], [33.55773, -112.208802], [34.010383000000004, -118.421467], [45.50466, -123.86526], [35.757011, -78.670102], [34.05685, -117.383316], [39.26859, -76.62894], [43.015884, -83.68304300000001], [30.240758000000003, -82.25574300000002], [42.153671, -88.004447], [40.042786, -79.969842], [33.912338, -84.37913], [26.488023, -81.787407], [33.4475, -117.635153], [39.960143, -75.18078], [45.064878, -93.164332], [35.039233, -120.48692], [46.148813, -95.942553], [27.29888, -82.461685], [34.17028, -118.610383], [33.774468, -118.007638], [34.145915, -118.223029], [37.338786, -77.371787], [31.768062, -106.29801299999998], [38.987563, -77.07709799999998], [25.688778, -80.311998], [30.169801, -97.787427], [25.762992, -80.307345], [37.185791, -120.488184], [37.774388, -122.231317], [41.87124, -87.83788], [34.073033, -118.466615], [25.925983, -80.158475], [37.317935, -121.980482], [41.75957, -122.623186], [40.516108, -74.300912], [25.645441, -80.333492], [39.242851, -123.77416399999998], [28.184371, -82.206925], [33.941182, -118.096502], [39.944489, -82.585458], [39.144401, -112.236378], [42.35631, -83.07465], [34.024053, -117.335455], [36.354328, -86.719797], [40.039977, -76.36636999999997], [33.794002, -117.145455], [41.92933, -87.69015], [39.238019, -123.167521], [47.838814, -114.292207], [46.71646, -94.70215], [41.730099, -87.62484], [37.839417, -122.296972], [33.739868, -80.208996], [41.520292, -73.097367], [36.243885, -86.784664], [38.394416, -82.458003], [35.76333, -81.02399], [34.000673, -118.282692], [28.569699, -81.415675], [34.291646, -118.468024], [47.747043, -103.647755], [34.019671, -118.281339], [45.69118, -120.431516], [34.07945, -117.62676299999998], [38.575627, -121.381657], [42.99497, -78.88016999999998], [44.95187, -93.05576], [43.4813, -84.09119], [39.982391, -76.728826], [48.94302, -111.932311], [39.285024, -120.700769], [38.675818, -121.952104], [39.179349, -121.192866], [38.36013, -120.746657], [34.071037, -119.014399], [37.51732, -77.35011999999998], [40.803338, -73.916106], [27.06208, -82.4163], [40.422588, -78.43626], [35.787036, -78.64343000000002], [33.75014, -117.83201], [32.87062, -96.89757], [25.583511, -80.364819], [35.88797, -78.84532], [33.674137, -117.885083], [28.213035, -82.692626], [25.784885, -80.303886], [38.19202, -90.39576], [44.02021, -123.0262], [29.191132, -81.093251], [45.566518, -122.678513], [38.782681, -94.496767], [38.649194, -121.382869], [25.585825, -80.358459], [25.935617, -80.316262], [43.053803, -75.274863], [37.880357, -122.516947], [34.513948, -82.689401], [47.22442, -122.463151], [40.895524, -73.85038], [25.769383, -80.343673], [47.63081, -122.14935], [41.858737, -77.864769], [33.903589000000004, -118.192443], [34.02888, -118.00291], [41.977167, -78.61703100000003], [29.654675, -95.567911], [34.2168, -118.40873], [25.811508, -80.198596], [41.054344, -111.961149], [33.193740000000005, -117.36532], [40.80543, -73.910169], [36.854356, -119.949363], [35.43792, -80.86841], [40.449647, -80.002361], [33.480437, -86.82717199999998], [35.74852, -78.70204], [25.684871, -80.400574], [32.67446, -97.14221], [45.03197, -92.78803], [34.134758000000005, -117.345262], [33.80272, -118.13193], [33.837629, -117.251573], [34.07175, -118.099592], [37.378157, -122.067821], [44.171445, -117.129877], [34.081579999999995, -117.72332], [33.924454, -117.288515], [46.74558, -114.162717], [25.838485, -80.230255], [41.5674, -81.57699000000002], [25.627093, -80.38489], [35.996547, -83.698916], [35.163378, -80.87602199999998], [33.83268, -117.93577], [40.08768, -76.28461], [34.935354, -82.004667], [29.959636, -90.066194], [38.224504, -122.126524], [46.098566, -122.986461], [30.264625, -97.737845], [41.75083, -88.03107], [33.676826, -80.90065799999998], [35.31844, -80.77898], [34.17108, -118.50441], [33.568843, -81.921111], [39.026359, -121.45096], [37.51217000000001, -77.4636], [38.543563, -77.346423], [28.466058, -81.27579300000002], [27.740274, -82.676399], [38.916116, -121.062759], [43.010562, -83.678623], [32.7708, -96.77821], [25.810834, -80.343958], [41.55122, -87.78658], [28.416792, -81.417964], [44.883351, -117.011234], [41.180119, -73.19471800000002], [25.68653, -80.3769], [34.15489, -118.288794], [34.134789000000005, -117.66558], [43.20505, -77.66627], [34.048662, -118.448185], [34.152163, -118.15041399999998], [39.926198, -86.252954], [34.046833, -118.447249], [33.858831, -118.033767], [28.647608, -81.388139], [36.068249, -79.29272399999998], [29.869129, -95.34027], [25.97642, -80.14215], [34.392763, -119.460441], [33.990194, -117.905511], [37.97967, -122.31737], [34.13538, -117.990766], [32.133695, -110.99699], [47.411929, -122.62428], [32.720366, -96.872256], [37.701804, -120.277154], [44.964992, -93.282257], [32.669268, -96.823024], [45.58898, -122.494007], [33.514452, -113.031806], [33.461995, -112.139566], [33.46223, -112.0477], [34.106592, -117.867561], [27.152904, -80.386706], [39.918778, -86.103646], [41.952184, -74.020825], [25.92719, -80.155999], [33.933609000000004, -118.025929], [35.791181, -80.862476], [36.06229, -86.716724], [37.944791, -122.48558], [33.39689, -117.593826], [42.22394, -122.73039], [41.543132, -73.074816], [25.596112, -80.360363], [40.041541, -76.447292], [33.475769, -80.753135], [34.12117, -117.83276], [35.872965, -78.726727], [41.67274000000001, -83.57252], [42.049531, -88.313163], [35.23058599999999, -112.590961], [28.96073, -82.12416999999998], [43.65952, -93.72176], [38.917361, -76.91774000000002], [35.119677, -81.082945], [34.030952, -118.391111], [45.51915, -122.51073999999998], [39.820237, -75.447983], [37.865079, -119.972582], [33.817415000000004, -117.876528], [33.639076, -117.593804], [40.941098, -122.430471], [25.747394, -80.34733], [32.863062, -117.2302], [30.483731, -86.416831], [37.78417, -122.184195], [43.604842, -116.453635], [41.47989000000001, -78.66998000000002], [44.85505, -93.39442], [34.072896, -117.787482], [28.552962, -81.409813], [38.508989, -77.377259], [34.00116, -117.55392], [40.76521, -74.023314], [45.48262, -122.566122], [40.256845, -76.855774], [34.052855, -118.246219], [41.62431, -87.67973], [28.415111, -81.422667], [28.357185, -80.795746], [38.134163, -120.462041], [29.67921, -95.44543], [33.86351, -118.32265], [36.57281, -119.625374], [36.038606, -86.78614499999998], [41.89099, -87.65065], [39.013248, -77.133258], [34.081741, -117.71329], [30.404968, -97.716074], [28.55353400000001, -81.475964], [47.19341, -122.22941000000002], [40.732757, -122.940515], [41.670502, -72.840664], [44.861277, -93.164062], [30.401705, -91.105437], [34.217465999999995, -119.040566], [38.79737100000001, -77.194451], [43.883653, -92.493199], [25.689551, -80.411776], [38.579163, -77.802152], [47.46199, -122.26784], [34.21587, -119.016887], [38.994605, -77.158113], [37.975887, -120.364577], [28.450995, -81.360869], [33.887307, -118.363013], [34.067657000000004, -117.580285], [35.340911, -80.740525], [38.01875, -121.93735], [40.75366, -74.056666], [40.665455, -73.99623199999998], [28.448983, -81.636551], [34.369729, -118.500777], [25.82562, -80.32162], [35.181111, -80.89081800000002], [34.059348, -118.178955], [33.46237, -117.136584], [47.467801, -122.80473899999998], [39.098811, -94.609904], [46.001268, -95.731977], [25.796815, -80.328366], [36.074413, -80.229731], [39.190434, -120.930932], [33.891782, -80.43702900000002], [33.749559000000005, -117.8437], [34.992670000000004, -81.83827099999998], [25.846146, -80.240804], [29.96813, -90.069423], [32.964490000000005, -117.247136], [35.781619, -78.705078], [29.954915000000003, -90.096115], [27.298801, -82.49954100000002], [41.86925, -87.9171], [39.59365, -74.43674], [43.194648, -77.628804], [38.481577, -121.371793], [42.33845, -83.05631], [30.47374000000001, -97.67248], [25.926009, -80.245614], [35.41148, -119.053823], [33.974728000000006, -118.236829], [44.974288, -93.287564], [29.959126, -90.078042], [42.48484000000001, -83.26925], [28.880583, -82.364436], [38.03942, -78.83431], [33.93451, -81.01226], [35.74974, -78.694229], [29.775892, -95.296845], [44.83684, -93.39858], [45.128931, -93.376518], [35.30914, -80.7188], [40.019835, -75.148889], [45.54174, -122.86754], [39.612072, -75.655861], [38.165528, -122.578179], [34.133603, -117.93341], [29.98226, -81.45935], [33.990819, -117.934726], [41.90335200000001, -83.37089], [36.579805, -119.633077], [28.451602, -81.477678], [33.779753, -118.089952], [34.724703000000005, -83.03014399999998], [36.025374, -95.879157], [38.778335, -90.360055], [40.8051, -73.920339], [47.60173, -122.32484], [37.45127700000001, -122.125414], [28.568395, -81.28406899999997], [28.200776, -82.192652], [38.474347, -121.417758], [25.905777, -80.292416], [43.07763900000001, -76.4779], [33.87141, -117.74003], [28.34733, -81.531497], [40.013784, -75.617147], [38.43865, -90.38098], [38.935582, -122.782447], [40.780185, -74.052819], [30.230059000000004, -97.864522], [27.46251, -82.589667], [32.668966999999995, -96.925592], [42.66965, -73.73751], [40.64445, -74.71951999999997], [25.685169, -80.446102], [39.87186, -104.9877], [33.9616, -118.36932], [45.538013, -122.560123], [39.496126, -111.563915], [30.537207, -91.077301], [44.985306, -93.288355], [37.93692, -122.06014], [32.835035, -96.915319], [45.408979, -121.569915], [40.130847, -75.401554], [25.984818, -80.165837], [34.542393, -112.190599], [25.714117, -80.427899], [39.10857, -94.680057], [30.934892, -85.41804599999998], [32.854462, -96.885694], [33.617659, -85.726393], [31.82157, -89.86811], [34.441142, -119.760091], [41.54772, -72.747826], [33.75948, -117.970703], [33.891427, -80.336999], [32.92866, -96.759763], [28.419992, -81.404624], [32.741126, -96.830599], [36.653423, -78.460635], [39.561112, -107.354779], [38.023641, -121.970789], [38.958108, -94.541029], [47.43027, -122.27328], [37.731545, -122.425009], [34.189292, -117.358671], [27.96047, -82.74982800000002], [39.016925, -120.125307], [43.175203, -77.634817], [33.88482, -117.52173], [38.446344, -121.857851], [34.14792, -118.03153], [42.233829, -122.763545], [28.357378000000004, -81.494599], [37.749871, -122.403842], [44.658511, -92.771247], [40.72592, -111.99763], [36.775478, -119.749077], [40.022603, -75.03654499999998], [37.587497, -120.901767], [40.675213, -74.172957], [38.618927, -122.65986200000002], [25.951176, -80.18063599999998], [38.86615, -76.99168], [28.569127, -81.28619499999998], [38.069167, -122.226667], [34.181803, -118.397179], [32.81233, -96.79121], [36.329944, -119.36767], [43.165572, -77.600599], [38.87765200000001, -77.110301], [33.487934, -82.238552], [39.04603, -94.36293], [39.718378, -105.189098], [36.065186, -79.380887], [36.095882, -80.23456999999998], [47.420823, -122.622929], [29.67669, -95.38158], [33.991979, -118.352889], [27.052084000000004, -82.40920899999998], [38.7015, -90.26657], [38.41511, -120.610859], [42.816199, -78.79211], [34.10514000000001, -118.810866], [41.88569, -87.64423000000002], [42.95482, -76.98684], [39.322847, -76.530156], [39.783617, -84.227528], [45.58109, -122.83259], [37.621009, -77.584262], [32.864216, -96.678885], [26.667296, -81.88610899999998], [35.639493, -78.83328900000002], [34.068622999999995, -117.974172], [28.03681, -82.121187], [30.387802, -87.277357], [41.225734, -93.781989], [32.557977, -80.736498], [39.77841, -104.91289], [38.860307, -76.060851], [37.443638, -77.424904], [34.313709, -118.488801], [42.913786, -85.608238], [39.9131, -75.14853000000002], [29.85664, -95.56372], [37.967489, -122.51856], [30.403921, -91.181911], [34.57247, -118.69176000000002], [25.889326, -80.16001999999997], [43.149509, -77.571697], [34.027524, -118.274639], [38.954749, -76.863268], [36.622817, -79.36475]],\n",
       "                {&quot;blur&quot;: 15, &quot;maxZoom&quot;: 18, &quot;minOpacity&quot;: 0.5, &quot;radius&quot;: 25}\n",
       "            ).addTo(map_f5ac9901a43669c3a38b79e59406af49);\n",
       "        \n",
       "&lt;/script&gt;\" style=\"position:absolute;width:100%;height:100%;left:0;top:0;border:none !important;\" allowfullscreen webkitallowfullscreen mozallowfullscreen></iframe></div></div>"
      ],
      "text/plain": [
       "<folium.folium.Map at 0x259176ee9a0>"
      ]
     },
     "execution_count": 99,
     "metadata": {},
     "output_type": "execute_result"
    }
   ],
   "source": [
    "map = folium.Map()\n",
    "HeatMap(lat_lon_pairs).add_to(map)\n",
    "map"
   ]
  },
  {
   "cell_type": "code",
   "execution_count": null,
   "id": "d9f0728f",
   "metadata": {},
   "outputs": [],
   "source": []
  },
  {
   "cell_type": "code",
   "execution_count": null,
   "id": "67e118cd",
   "metadata": {},
   "outputs": [],
   "source": []
  },
  {
   "cell_type": "code",
   "execution_count": null,
   "id": "392bd97c",
   "metadata": {},
   "outputs": [],
   "source": []
  },
  {
   "cell_type": "markdown",
   "id": "d5d38bdc",
   "metadata": {},
   "source": [
    "# Summary\n",
    "Insights:\n",
    "No data from newyork\n",
    "The number of accidents per city decreses exponentially\n",
    "less than 5% of cities have mor than 1000 yearly accidents\n",
    "Over 1100 of cities have just reported one accident\n"
   ]
  },
  {
   "cell_type": "code",
   "execution_count": null,
   "id": "d87e539f",
   "metadata": {},
   "outputs": [],
   "source": []
  },
  {
   "cell_type": "code",
   "execution_count": null,
   "id": "20fcf816",
   "metadata": {},
   "outputs": [],
   "source": []
  }
 ],
 "metadata": {
  "kernelspec": {
   "display_name": "Python 3",
   "language": "python",
   "name": "python3"
  },
  "language_info": {
   "codemirror_mode": {
    "name": "ipython",
    "version": 3
   },
   "file_extension": ".py",
   "mimetype": "text/x-python",
   "name": "python",
   "nbconvert_exporter": "python",
   "pygments_lexer": "ipython3",
   "version": "3.8.8"
  }
 },
 "nbformat": 4,
 "nbformat_minor": 5
}
